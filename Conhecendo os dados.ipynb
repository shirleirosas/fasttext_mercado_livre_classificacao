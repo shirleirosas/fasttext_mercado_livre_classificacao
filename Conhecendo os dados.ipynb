{
 "cells": [
  {
   "cell_type": "code",
   "execution_count": 1,
   "metadata": {},
   "outputs": [],
   "source": [
    "import pandas as pd \n",
    "import numpy as np\n",
    "from unidecode import unidecode\n",
    "import re\n",
    "from sklearn.linear_model import LinearRegression\n",
    "import matplotlib.pyplot as plt"
   ]
  },
  {
   "cell_type": "code",
   "execution_count": 2,
   "metadata": {},
   "outputs": [
    {
     "data": {
      "text/html": [
       "<div>\n",
       "<style scoped>\n",
       "    .dataframe tbody tr th:only-of-type {\n",
       "        vertical-align: middle;\n",
       "    }\n",
       "\n",
       "    .dataframe tbody tr th {\n",
       "        vertical-align: top;\n",
       "    }\n",
       "\n",
       "    .dataframe thead th {\n",
       "        text-align: right;\n",
       "    }\n",
       "</style>\n",
       "<table border=\"1\" class=\"dataframe\">\n",
       "  <thead>\n",
       "    <tr style=\"text-align: right;\">\n",
       "      <th></th>\n",
       "      <th>title</th>\n",
       "      <th>label_quality</th>\n",
       "      <th>language</th>\n",
       "      <th>category</th>\n",
       "    </tr>\n",
       "  </thead>\n",
       "  <tbody>\n",
       "    <tr>\n",
       "      <th>0</th>\n",
       "      <td>Hidrolavadora Lavor One 120 Bar 1700w  Bomba A...</td>\n",
       "      <td>unreliable</td>\n",
       "      <td>spanish</td>\n",
       "      <td>ELECTRIC_PRESSURE_WASHERS</td>\n",
       "    </tr>\n",
       "    <tr>\n",
       "      <th>1</th>\n",
       "      <td>Placa De Sonido - Behringer Umc22</td>\n",
       "      <td>unreliable</td>\n",
       "      <td>spanish</td>\n",
       "      <td>SOUND_CARDS</td>\n",
       "    </tr>\n",
       "    <tr>\n",
       "      <th>2</th>\n",
       "      <td>Maquina De Lavar Electrolux 12 Kilos</td>\n",
       "      <td>unreliable</td>\n",
       "      <td>portuguese</td>\n",
       "      <td>WASHING_MACHINES</td>\n",
       "    </tr>\n",
       "    <tr>\n",
       "      <th>3</th>\n",
       "      <td>Par Disco De Freio Diant Vent Gol 8v 08/ Frema...</td>\n",
       "      <td>unreliable</td>\n",
       "      <td>portuguese</td>\n",
       "      <td>VEHICLE_BRAKE_DISCS</td>\n",
       "    </tr>\n",
       "    <tr>\n",
       "      <th>4</th>\n",
       "      <td>Flashes Led Pestañas Luminoso Falso Pestañas P...</td>\n",
       "      <td>unreliable</td>\n",
       "      <td>spanish</td>\n",
       "      <td>FALSE_EYELASHES</td>\n",
       "    </tr>\n",
       "  </tbody>\n",
       "</table>\n",
       "</div>"
      ],
      "text/plain": [
       "                                               title label_quality  \\\n",
       "0  Hidrolavadora Lavor One 120 Bar 1700w  Bomba A...    unreliable   \n",
       "1                  Placa De Sonido - Behringer Umc22    unreliable   \n",
       "2               Maquina De Lavar Electrolux 12 Kilos    unreliable   \n",
       "3  Par Disco De Freio Diant Vent Gol 8v 08/ Frema...    unreliable   \n",
       "4  Flashes Led Pestañas Luminoso Falso Pestañas P...    unreliable   \n",
       "\n",
       "     language                   category  \n",
       "0     spanish  ELECTRIC_PRESSURE_WASHERS  \n",
       "1     spanish                SOUND_CARDS  \n",
       "2  portuguese           WASHING_MACHINES  \n",
       "3  portuguese        VEHICLE_BRAKE_DISCS  \n",
       "4     spanish            FALSE_EYELASHES  "
      ]
     },
     "execution_count": 2,
     "metadata": {},
     "output_type": "execute_result"
    }
   ],
   "source": [
    "#model = LinearRegression()\n",
    "dataTotal = pd.read_csv(\"dadosBrutos/train.csv\") \n",
    "dataTotal.head()"
   ]
  },
  {
   "cell_type": "code",
   "execution_count": 3,
   "metadata": {},
   "outputs": [
    {
     "data": {
      "text/plain": [
       "title            20000000\n",
       "label_quality    20000000\n",
       "language         20000000\n",
       "category         20000000\n",
       "dtype: int64"
      ]
     },
     "execution_count": 3,
     "metadata": {},
     "output_type": "execute_result"
    }
   ],
   "source": [
    "dataTotal.count()"
   ]
  },
  {
   "cell_type": "code",
   "execution_count": 4,
   "metadata": {},
   "outputs": [
    {
     "data": {
      "text/plain": [
       "title            10000000\n",
       "label_quality    10000000\n",
       "language         10000000\n",
       "category         10000000\n",
       "dtype: int64"
      ]
     },
     "execution_count": 4,
     "metadata": {},
     "output_type": "execute_result"
    }
   ],
   "source": [
    "dataTotal[dataTotal.language=='portuguese'].count()"
   ]
  },
  {
   "cell_type": "code",
   "execution_count": 5,
   "metadata": {},
   "outputs": [
    {
     "data": {
      "text/plain": [
       "title            10000000\n",
       "label_quality    10000000\n",
       "language         10000000\n",
       "category         10000000\n",
       "dtype: int64"
      ]
     },
     "execution_count": 5,
     "metadata": {},
     "output_type": "execute_result"
    }
   ],
   "source": [
    "dataTotal[dataTotal.language=='spanish'].count()"
   ]
  },
  {
   "cell_type": "code",
   "execution_count": 6,
   "metadata": {},
   "outputs": [
    {
     "data": {
      "text/plain": [
       "title            18815755\n",
       "label_quality    18815755\n",
       "language         18815755\n",
       "category         18815755\n",
       "dtype: int64"
      ]
     },
     "execution_count": 6,
     "metadata": {},
     "output_type": "execute_result"
    }
   ],
   "source": [
    "dataTotal[dataTotal.label_quality=='unreliable'].count()"
   ]
  },
  {
   "cell_type": "code",
   "execution_count": 7,
   "metadata": {},
   "outputs": [
    {
     "data": {
      "text/plain": [
       "title            1184245\n",
       "label_quality    1184245\n",
       "language         1184245\n",
       "category         1184245\n",
       "dtype: int64"
      ]
     },
     "execution_count": 7,
     "metadata": {},
     "output_type": "execute_result"
    }
   ],
   "source": [
    "dataTotal[dataTotal.label_quality=='reliable'].count()"
   ]
  },
  {
   "cell_type": "code",
   "execution_count": 50,
   "metadata": {},
   "outputs": [],
   "source": [
    "#todos os titulos que contem as palavras\n",
    "dataTotal['title'] = dataTotal['title'].str.upper() \n",
    "DataComFrete = dataTotal[(dataTotal.title.str.contains(\"FRETE GRATIS\"))]\n",
    "DataComFreteAcento=dataTotal[(dataTotal.title.str.contains(\"FRETE GRÁTIS\"))]\n",
    "DataComFreteEnvio = dataTotal[(dataTotal.title.str.contains(\"ENVIO GRATIS\"))]\n",
    "DataComBuenEstado= dataTotal[(dataTotal.title.str.contains(\"BUEN ESTADO\"))]\n",
    "DataComVariedaEnvio= dataTotal[(dataTotal.title.str.contains(\"VARIEDAD ENVIO\"))]"
   ]
  },
  {
   "cell_type": "code",
   "execution_count": 51,
   "metadata": {},
   "outputs": [
    {
     "data": {
      "text/plain": [
       "1588"
      ]
     },
     "execution_count": 51,
     "metadata": {},
     "output_type": "execute_result"
    }
   ],
   "source": [
    "#quantidade de categoria no total\n",
    "arrayCategoriaUnica =pd.unique( dataTotal.category)\n",
    "arrayCategoriaUnica.size\n"
   ]
  },
  {
   "cell_type": "code",
   "execution_count": 52,
   "metadata": {},
   "outputs": [],
   "source": [
    "#quantidade de titulos por categoria\n",
    "def quantidaCategoria(dataFrameComCategoria):\n",
    "    df = pd.DataFrame(columns=['QTD', 'Categoria'])\n",
    "    for x in (arrayCategoriaUnica):  \n",
    "       DataCountCategoria = dataFrameComCategoria[dataFrameComCategoria.category.str.contains(x)]\n",
    "       qtdCategoria = DataCountCategoria.category.count()\n",
    "       df = df.append({'QTD':qtdCategoria ,'Categoria' :x} , ignore_index=True) \n",
    "    df=df.sort_values(by=['QTD'])\n",
    "    return df\n",
    "\n",
    "\n",
    "DataQTDCategoriaComFrete = quantidaCategoria(DataComFrete)\n",
    "DataQTDCategoriaDataComFreteAcento=quantidaCategoria(DataComFreteAcento)\n",
    "DataQTDCategoriaDataComFreteEnvio=quantidaCategoria(DataComFreteEnvio)\n",
    "DataQTDCategoriaDataComBuenEstado=quantidaCategoria(DataComBuenEstado)\n",
    "DataQTDCategoriaDataComVariedaEnvio=quantidaCategoria(DataComVariedaEnvio)\n"
   ]
  },
  {
   "cell_type": "code",
   "execution_count": 75,
   "metadata": {},
   "outputs": [],
   "source": [
    "#quantidade que a palavra x aconteceu \n",
    "tamanhoComFrete= (DataQTDCategoriaComFrete[DataQTDCategoriaComFrete.QTD!=0]).sum()\n",
    "tamanhoComFreteAcento=(DataQTDCategoriaDataComFreteAcento[DataQTDCategoriaDataComFreteAcento.QTD!=0]).sum()\n",
    "tamanhoComFreteEnvio=(DataQTDCategoriaDataComFreteEnvio[DataQTDCategoriaDataComFreteEnvio.QTD!=0]).sum()\n",
    "tamanhoComBuenEstado=(DataQTDCategoriaDataComBuenEstado[DataQTDCategoriaDataComBuenEstado.QTD!=0]).sum()\n",
    "tamanhoComVariedaEnvio= (DataQTDCategoriaDataComVariedaEnvio[DataQTDCategoriaDataComVariedaEnvio.QTD!=0]).sum()"
   ]
  },
  {
   "cell_type": "code",
   "execution_count": 79,
   "metadata": {},
   "outputs": [
    {
     "name": "stdout",
     "output_type": "stream",
     "text": [
      "Total score for 46506 106974  49368  21574  0.0\n"
     ]
    }
   ],
   "source": [
    "print(\"Total score for %s %s  %s  %s  %s\" % (tamanhoComFrete.QTD, tamanhoComFreteAcento.QTD,\n",
    "                                    tamanhoComFreteEnvio.QTD,tamanhoComBuenEstado.QTD,\n",
    "                                    tamanhoComVariedaEnvio.QTD))"
   ]
  },
  {
   "cell_type": "code",
   "execution_count": 65,
   "metadata": {},
   "outputs": [
    {
     "data": {
      "image/png": "[encoded data removed]",
      "text/plain": [
       "<Figure size 432x288 with 1 Axes>"
      ]
     },
     "metadata": {
      "needs_background": "light"
     },
     "output_type": "display_data"
    }
   ],
   "source": [
    "ax = DataQTDCategoriaDataComBuenEstado.plot.bar(x='Categoria', y='QTD', rot=0)"
   ]
  },
  {
   "cell_type": "code",
   "execution_count": 74,
   "metadata": {},
   "outputs": [
    {
     "data": {
      "text/html": [
       "<div>\n",
       "<style scoped>\n",
       "    .dataframe tbody tr th:only-of-type {\n",
       "        vertical-align: middle;\n",
       "    }\n",
       "\n",
       "    .dataframe tbody tr th {\n",
       "        vertical-align: top;\n",
       "    }\n",
       "\n",
       "    .dataframe thead th {\n",
       "        text-align: right;\n",
       "    }\n",
       "</style>\n",
       "<table border=\"1\" class=\"dataframe\">\n",
       "  <thead>\n",
       "    <tr style=\"text-align: right;\">\n",
       "      <th></th>\n",
       "      <th>QTD</th>\n",
       "      <th>Categoria</th>\n",
       "    </tr>\n",
       "  </thead>\n",
       "  <tbody>\n",
       "    <tr>\n",
       "      <th>865</th>\n",
       "      <td>1740</td>\n",
       "      <td>BELTS</td>\n",
       "    </tr>\n",
       "    <tr>\n",
       "      <th>1366</th>\n",
       "      <td>1525</td>\n",
       "      <td>TREADMILL_RUNNING_BELTS</td>\n",
       "    </tr>\n",
       "    <tr>\n",
       "      <th>568</th>\n",
       "      <td>1028</td>\n",
       "      <td>SUITS</td>\n",
       "    </tr>\n",
       "    <tr>\n",
       "      <th>307</th>\n",
       "      <td>914</td>\n",
       "      <td>VIDEO_GAMES</td>\n",
       "    </tr>\n",
       "    <tr>\n",
       "      <th>1382</th>\n",
       "      <td>854</td>\n",
       "      <td>LAPTOP_SKINS</td>\n",
       "    </tr>\n",
       "    <tr>\n",
       "      <th>624</th>\n",
       "      <td>839</td>\n",
       "      <td>SHIRTS</td>\n",
       "    </tr>\n",
       "    <tr>\n",
       "      <th>773</th>\n",
       "      <td>778</td>\n",
       "      <td>EROTIC_CREAMS</td>\n",
       "    </tr>\n",
       "    <tr>\n",
       "      <th>529</th>\n",
       "      <td>769</td>\n",
       "      <td>MALE_MASTURBATORS</td>\n",
       "    </tr>\n",
       "    <tr>\n",
       "      <th>746</th>\n",
       "      <td>760</td>\n",
       "      <td>GAME_CONSOLE_AND_VIDEO_GAME_CONTROLLER_SKINS</td>\n",
       "    </tr>\n",
       "    <tr>\n",
       "      <th>676</th>\n",
       "      <td>750</td>\n",
       "      <td>RUM</td>\n",
       "    </tr>\n",
       "    <tr>\n",
       "      <th>35</th>\n",
       "      <td>673</td>\n",
       "      <td>CARD_PAYMENT_TERMINALS</td>\n",
       "    </tr>\n",
       "    <tr>\n",
       "      <th>945</th>\n",
       "      <td>666</td>\n",
       "      <td>PLANTS</td>\n",
       "    </tr>\n",
       "    <tr>\n",
       "      <th>241</th>\n",
       "      <td>631</td>\n",
       "      <td>VESTS</td>\n",
       "    </tr>\n",
       "    <tr>\n",
       "      <th>301</th>\n",
       "      <td>570</td>\n",
       "      <td>HOOKAHS</td>\n",
       "    </tr>\n",
       "    <tr>\n",
       "      <th>103</th>\n",
       "      <td>568</td>\n",
       "      <td>CONTINUOUS_LIGHTING</td>\n",
       "    </tr>\n",
       "    <tr>\n",
       "      <th>137</th>\n",
       "      <td>562</td>\n",
       "      <td>AIR_FRESHENERS</td>\n",
       "    </tr>\n",
       "    <tr>\n",
       "      <th>1136</th>\n",
       "      <td>522</td>\n",
       "      <td>FOOTBALL_SHIRTS</td>\n",
       "    </tr>\n",
       "    <tr>\n",
       "      <th>111</th>\n",
       "      <td>516</td>\n",
       "      <td>CRIB_BEDDING_SETS</td>\n",
       "    </tr>\n",
       "    <tr>\n",
       "      <th>587</th>\n",
       "      <td>514</td>\n",
       "      <td>CAR_AIR_FRESHENERS</td>\n",
       "    </tr>\n",
       "    <tr>\n",
       "      <th>1031</th>\n",
       "      <td>487</td>\n",
       "      <td>HAMMOCKS</td>\n",
       "    </tr>\n",
       "  </tbody>\n",
       "</table>\n",
       "</div>"
      ],
      "text/plain": [
       "       QTD                                     Categoria\n",
       "865   1740                                         BELTS\n",
       "1366  1525                       TREADMILL_RUNNING_BELTS\n",
       "568   1028                                         SUITS\n",
       "307    914                                   VIDEO_GAMES\n",
       "1382   854                                  LAPTOP_SKINS\n",
       "624    839                                        SHIRTS\n",
       "773    778                                 EROTIC_CREAMS\n",
       "529    769                             MALE_MASTURBATORS\n",
       "746    760  GAME_CONSOLE_AND_VIDEO_GAME_CONTROLLER_SKINS\n",
       "676    750                                           RUM\n",
       "35     673                        CARD_PAYMENT_TERMINALS\n",
       "945    666                                        PLANTS\n",
       "241    631                                         VESTS\n",
       "301    570                                       HOOKAHS\n",
       "103    568                           CONTINUOUS_LIGHTING\n",
       "137    562                                AIR_FRESHENERS\n",
       "1136   522                               FOOTBALL_SHIRTS\n",
       "111    516                             CRIB_BEDDING_SETS\n",
       "587    514                            CAR_AIR_FRESHENERS\n",
       "1031   487                                      HAMMOCKS"
      ]
     },
     "execution_count": 74,
     "metadata": {},
     "output_type": "execute_result"
    }
   ],
   "source": [
    "#DataQTDCategoriaComFrete.sort_values(by=['QTD'], ascending=False ).head(20)\n",
    "DataQTDCategoriaDataComFreteAcento.sort_values(by=['QTD'], ascending=False ).head(20)\n",
    "#DataQTDCategoriaDataComFreteEnvio.sort_values(by=['QTD'], ascending=False ).head(20)\n",
    "#DataQTDCategoriaDataComBuenEstado.sort_values(by=['QTD'], ascending=False ).head(20)\n",
    "#DataQTDCategoriaDataComVariedaEnvio.sort_values(by=['QTD'], ascending=False ).head(20)\n"
   ]
  },
  {
   "cell_type": "code",
   "execution_count": null,
   "metadata": {},
   "outputs": [],
   "source": [
    "DataQTDCategoriaComFrete \n",
    "DataQTDCategoriaDataComFreteAcento\n",
    "DataQTDCategoriaDataComFreteEnvio\n",
    "DataQTDCategoriaDataComBuenEstado\n",
    "DataQTDCategoriaDataComVariedaEnvio\n"
   ]
  }
 ],
 "metadata": {
  "kernelspec": {
   "display_name": "Python (fasttext)",
   "language": "python",
   "name": "fasttext"
  },
  "language_info": {
   "codemirror_mode": {
    "name": "ipython",
    "version": 3
   },
   "file_extension": ".py",
   "mimetype": "text/x-python",
   "name": "python",
   "nbconvert_exporter": "python",
   "pygments_lexer": "ipython3",
   "version": "3.7.3"
  }
 },
 "nbformat": 4,
 "nbformat_minor": 2
}
