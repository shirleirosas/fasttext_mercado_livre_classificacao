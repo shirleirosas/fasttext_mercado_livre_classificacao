{
 "cells": [
  {
   "cell_type": "code",
   "execution_count": 70,
   "metadata": {},
   "outputs": [],
   "source": [
    "import fasttext\n",
    "import pandas as pd \n",
    "from unidecode import unidecode\n",
    "import re"
   ]
  },
  {
   "cell_type": "code",
   "execution_count": 71,
   "metadata": {},
   "outputs": [
    {
     "name": "stdout",
     "output_type": "stream",
     "text": [
      "['__label__WINES', '__label__COFFEE_MAKERS', '__label__SWEATERS_AND_CARDIGANS', '__label__CHOCOLATES', '__label__RACQUETS', '__label__CAR_CARBURETORS', '__label__HAIR_STRAIGHTENERS', '__label__BABY_CAR_SEATS', '__label__KITCHEN_SINKS', '__label__BOOKCASES', '__label__MOTORCYCLE_JACKETS', '__label__SHORTS', '__label__MUSICAL_KEYBOARDS', '__label__VACUUM_CLEANERS', '__label__PANTS', '__label__RANGES', '__label__HAIR_DRYERS', '__label__ELECTRIC_DRILLS', '__label__WALL_CLOCKS', '__label__BRAKE_MASTER_CYLINDERS', '__label__DECORATIVE_BOXES', '__label__BEERS', '__label__SEWING_MACHINES', '__label__HAIR_CLIPPERS', '__label__CV_JOINTS', '__label__MATTRESSES', '__label__BOX_SPRING_AND_MATTRESS_SETS', '__label__FOOTBALL_BALLS', '__label__BLANKETS', '__label__NIGHTSTANDS', '__label__STABILIZERS_AND_UPS', '__label__PORTABLE_GENERATORS', '__label__WRENCH_SETS', '__label__SOUND_CONSOLES_AND_DJ_MIXERS', '__label__GPS', '__label__VESTS', '__label__REFRIGERATORS', '__label__ADHESIVE_TAPES', '__label__KEYBOARD_AND_MOUSE_KITS', '__label__SUITCASES', '__label__AIR_COMPRESSORS', '__label__CAR_AC_CONDENSERS', '__label__MEMORY_CARDS', '__label__BABY_DIAPERS', '__label__WHISKEYS', '__label__THERMAL_CUPS_AND_TUMBLERS', '__label__MOTORCYCLE_FENDERS', '__label__CLASSIC_CARS', '__label__MOTORCYCLE_BATTERIES', '__label__WHEELS_BEARINGS', '__label__MOTORCYCLE_DISTRIBUTION_CHAINS', '__label__COFFEE_TABLES', '__label__COOKIES_CUTTERS', '__label__FACE_MASKS', '__label__BOOTS', '__label__MEN_SWIMWEAR', '__label__LED_STAGE_LIGHTS', '__label__PORTABLE_CELLPHONE_CHARGERS', '__label__PUREBRED_DOGS', '__label__BABY_STROLLERS', '__label__ROLLER_SKATES', '__label__PENCIL_CASES', '__label__TV_AND_MONITOR_MOUNTS', '__label__DESKTOP_COMPUTER_CASES', '__label__OVENS', '__label__DJ_CONTROLLERS', '__label__PENCILS', '__label__AUDIO_AMPLIFIERS', '__label__WASHING_MACHINES', '__label__LENS_FILTERS', '__label__MOTORCYCLE_GLOVES', '__label__SUITS', '__label__ESSENTIAL_OILS', '__label__HOME_SHELVES', '__label__FOLDERS_AND_EXPANDING_FILES', '__label__FLASHLIGHTS', '__label__SIDEBOARDS', '__label__MUSIC_ALBUMS', '__label__CAR_ENGINE_CAMSHAFTS', '__label__PLANTS', '__label__BABY_BLANKETS', '__label__MOVIES', '__label__COMPLETE_SKATEBOARDS', '__label__PILLOWS', '__label__CONCERT_TICKETS', '__label__STREAMING_MEDIA_DEVICES', '__label__FISHING_LINES', '__label__KITCHEN_MOLDS', '__label__POWER_GRINDERS', '__label__CLUTCH_SLAVE_CYLINDERS', '__label__AUTOMOTIVE_BATTERIES', '__label__DRUMS', '__label__CAR_SCANNERS', '__label__BATHROOM_VANITIES', '__label__LIGHTERS', '__label__AUTOMOTIVE_TIRES', '__label__PIPES_AND_TUBES', '__label__CRANKSHAFTS', '__label__CELLPHONE_COVERS', '__label__SOUVENIRS', '__label__RUBBER_STAMPS', '__label__TRADING_CARD_GAMES', '__label__TENTS', '__label__COMICS', '__label__KITCHEN_RANGE_HOODS', '__label__PERFUMES', '__label__ELECTRIC_PRESSURE_WASHERS', '__label__SOLDERING_MACHINES', '__label__SNEAKERS', '__label__ENGINE_INTAKE_HOSES', '__label__COOKTOPS', '__label__AUTOMOTIVE_CV_JOINT_BOOTS', '__label__VIDEO_GAMES', '__label__DIGITAL_PORTABLE_MEDIA_PLAYERS', '__label__UKULELES', '__label__MINI_COMPONENT_SYSTEMS', '__label__ENGINE_CONNECTING_RODS', '__label__THERMAL_REFRIGERATORS_AND_BAGS', '__label__PACKAGING_BOXES', '__label__POSTERS', '__label__DRINK_PITCHERS', '__label__CHARMS_AND_MEDALS', '__label__SCOOTERS', '__label__BLENDERS', '__label__DILDOS', '__label__PARTY_HATS', '__label__FIDGET_SPINNERS', '__label__MANGA', '__label__CLOTHES_HANGERS', '__label__DECORATIVE_PAINTINGS', '__label__CELLPHONE_REPLACEMENT_CAMERAS', '__label__KITCHEN_POTS', '__label__SWEATSHIRTS_AND_HOODIES', '__label__CALCULATORS', '__label__AM_FM_RADIOS', '__label__NOTEBOOK_CASES', '__label__LAPTOP_BATTERIES', '__label__COMPUTER_MOTHERBOARDS', '__label__SANDALS_AND_FLIP_FLOPS', '__label__MOTORCYCLE_JERSEYS', '__label__MAGAZINES', '__label__MULTIMETERS', '__label__TOILET_SEATS', '__label__COLLECTIBLE_POSTCARDS', '__label__HEADPHONES', '__label__PLANT_POTS_AND_PLANTERS', '__label__ALL_IN_ONE', '__label__HATS_AND_CAPS', '__label__HARD_DRIVES_AND_SSDS', '__label__BRAKE_DRUMS', '__label__TELEVISION_MAIN_PLATE_REPLACEMENTS', '__label__DRIED_FRUITS', '__label__AUTOMOTIVE_HEADLIGHTS', '__label__SAXOPHONES', '__label__ANTIQUE_CHAIRS', '__label__PET_COLLARS', '__label__CELLPHONE_USB_AND_AUXILIARY_ADAPTERS', '__label__SUPPLEMENTS', '__label__CRIBS', '__label__CLUTCH_BEARINGS', '__label__AUDIO_AND_VIDEO_CABLES_AND_ADAPTERS', '__label__TV_SMPS', '__label__MIXERS', '__label__LAPTOP_CHARGERS', '__label__DRILLS_SCREWDRIVERS', '__label__CAR_LIGHT_BULBS', '__label__CELLPHONE_TABLET_AND_GPS_SCREEN_PROTECTORS', '__label__HAIR_BRUSHES', '__label__DECORATIVE_VINYLS', '__label__AUTOMOTIVE_AIR_FILTERS', '__label__CAMERA_TRIPODS', '__label__TRANSISTORS', '__label__BABY_BODYSUITS', '__label__BOOKS', '__label__DIECAST_VEHICLES', '__label__DESKTOP_COMPUTERS', '__label__EMERGENCY_LIGHTS', '__label__ELECTRONIC_ENTRANCE_INTERCOMS', '__label__SANDER_MACHINES', '__label__CUT_OFF_AND_GRINDING_WHEELS', '__label__INK_CARTRIDGES', '__label__TV_REMOTE_CONTROLS', '__label__VEHICLE_BRAKE_PADS', '__label__MUGS', '__label__CARPETS', '__label__EARRINGS', '__label__CAR_SEAT_COVERS', '__label__MATE_SETS', '__label__BICYCLE_SEATS', '__label__SUSPENSION_CONTROL_ARM_BUSHINGS', '__label__INTEGRATED_CIRCUITS', '__label__GRAPHICS_CARDS', '__label__HAIR_TREATMENTS', '__label__HAIR_SHAMPOOS_AND_CONDITIONERS', '__label__BABY_HIGH_CHAIRS', '__label__SHOCK_MOUNT_INSOLATORS', '__label__ELECTROLYTIC_CAPACITORS', '__label__WATER_HEATERS', '__label__MOTORCYCLE_FAIRINGS', '__label__KEYCHAINS', '__label__HOME_HEATERS', '__label__DRAWERS', '__label__AUTOMOTIVE_DOORS', '__label__MOTORCYCLE_TRANSMISSION_KITS', '__label__AIR_FRESHENERS', '__label__DESKTOP_COMPUTER_COOLERS_AND_FANS', '__label__AUTOMOBILE_FENDER_LINERS', '__label__T_SHIRTS', '__label__SCHOOL_AND_OFFICE_GLUES', '__label__CELLPHONE_BATTERIES', '__label__TOY_SOLDIERS', '__label__LEGGINGS', '__label__CAR_WHEELS', '__label__MOTORCYCLE_HEADLIGHTS', '__label__MOTORCYCLE_CRASH_BARS', '__label__HOME_THEATERS', '__label__PAJAMAS', '__label__SOFAS', '__label__DIFFERENTIALS', '__label__SKIRTS', '__label__CANDLES', '__label__SPARK_PLUGS', '__label__LIQUID_HAND_AND_BODY_SOAPS', '__label__CANDIES', '__label__BABY_CLOTHING_SETS', '__label__MOTORCYCLE_CARBURETORS', '__label__CAKE_TOPPERS', '__label__ACTION_FIGURES', '__label__FOOD_STORAGE_CONTAINERS', '__label__CELLPHONES', '__label__WIRELESS_ANTENNAS', '__label__VEHICLE_STICKERS', '__label__CD_AND_DVD_PLAYERS', '__label__DISHES_PLATES', '__label__BICYCLE_WHEELS', '__label__COLLECTIBLE_CANS_BOTTLES_AND_SODA_SIPHONS', '__label__FREEZERS', '__label__SCHOOL_AND_OFFICE_PAPERS', '__label__RINGS', '__label__ANTI_THEFT_STUDS', '__label__DECORATIVE_BASKETS', '__label__STARTERS', '__label__SOLDERING_IRONS', '__label__CELLPHONE_AND_TABLET_CASES', '__label__DINING_TABLES', '__label__MICROWAVES', '__label__AUTOMOTIVE_BUMPER_GRILLES', '__label__AUTOMOTIVE_ENGINE_COOLANT_THERMOSTATS', '__label__COMMERCIAL_AND_EVENT_BAGS', '__label__CAMERA_CHARGERS', '__label__BABIES_FORMULA', '__label__ALARMS_AND_SENSORS', '__label__WRENCHES', '__label__ALARM_CLOCKS', '__label__WINDOWS', '__label__PAINT_BRUSHES', '__label__HOME_OFFICE_DESKS', '__label__PENS', '__label__AIR_CONDITIONER_REMOTE_CONTROLS', '__label__CYMBALS', '__label__SWAY_BAR_LINKS', '__label__DRINKING_GLASSES', '__label__BLOUSES', '__label__CEILING_LIGHTS', '__label__OFFICE_CHAIRS', '__label__SPEAKERS', '__label__FOOTBALL_JACKETS', '__label__INFLATABLE_POOLS', '__label__IRONS', '__label__MOTORCYCLE_SEATS', '__label__AUTOMOTIVE_SPRING_SUSPENSIONS', '__label__AUTOMOTIVE_TRUNK_LIDS', '__label__BRACELETS_AND_ANKLE_BRACES', '__label__CELL_BATTERIES', '__label__CAMERA_BATTERIES', '__label__GARDEN_HOSES', '__label__ELECTRICAL_CABLES', '__label__CHARCOAL_GRILLS', '__label__AUTOMOTIVE_FENDERS', '__label__AUTOMOTIVE_WATER_PUMPS', '__label__DOOR_AND_WINDOW_LOCKS', '__label__BICYCLES', '__label__PANTIES', '__label__TOWEL_HOLDERS', '__label__MOTORCYCLE_TRANSMISSION_CROWNS', '__label__WRISTWATCHES', '__label__NECKLACES', '__label__CONTINUOUS_LIGHTING', '__label__BALLOONS', '__label__FLATS', '__label__ALTERNATOR_PULLEYS', '__label__DINING_CHAIRS', '__label__DEEP_FRYERS', '__label__WALKIE_TALKIES', '__label__SCULPTURES', '__label__AUTOMOTIVE_WHEEL_COVERS', '__label__AUTOMOTIVE_FRONT_BUMPERS', '__label__FOOTBALL_SHIRTS', '__label__AUTOMOTIVE_EMBLEMS', '__label__DRILL_BITS', '__label__AUTOMOTIVE_SHOCK_ABSORBERS', '__label__BACKPACKS', '__label__WATCH_BANDS', '__label__DOG_LEASHES', '__label__ENGINE_CONTROL_MODULES', '__label__BED_SHEETS', '__label__NOTEBOOKS', '__label__MAKEUP_ILLUMINATORS', '__label__FANS', '__label__EGR_VALVES', '__label__WOMEN_SWIMWEAR', '__label__AUTOMOBILE_FUEL_PUMPS', '__label__INDOOR_CURTAINS_AND_BLINDS', '__label__ELECTRIC_SAWS', '__label__DATA_CABLES_AND_ADAPTERS', '__label__FACIAL_SKIN_CARE_PRODUCTS', '__label__HAIRDRESSING_SCISSORS', '__label__PARTY_MASKS', '__label__PADLOCKS', '__label__ALTERNATORS', '__label__DRUMSTICKS_MALLETS_AND_BRUSHES', '__label__SHOWER_HEADS', '__label__CLEANING_CLOTHS', '__label__FUEL_INJECTORS', '__label__FISHING_LURES', '__label__KITCHEN_APRONS', '__label__VEHICLE_LED_BULBS', '__label__CUSHIONS', '__label__BODY_SHAPERS', '__label__TABLE_AND_DESK_LAMPS', '__label__SCREWS', '__label__LIPSTICKS', '__label__WALL_LIGHTS', '__label__DESKTOP_COMPUTER_POWER_SUPPLIES', '__label__AUTOMOTIVE_CLUTCH_DISCS', '__label__CAMERAS', '__label__AUTOMOTIVE_CLUTCH_KITS', '__label__COAT_RACKS', '__label__KEY_RACKS', '__label__DISHES_RACKS', '__label__AUTOMOTIVE_MOLDINGS', '__label__WARDROBES', '__label__CAMERA_FLASHES', '__label__MERCHANDISER_REFRIGERATORS', '__label__UMBRELLAS', '__label__FLATWARE_SETS', '__label__PEDAL_EFFECTS', '__label__TOOL_BOXES', '__label__DOLLS', '__label__COMFORTERS', '__label__VEHICLE_BRAKE_DISCS', '__label__FISHING_TACKLE_BOXES', '__label__DRESSES', '__label__VEHICLE_CLUTCH_CABLES', '__label__GLASSES_FRAMES', '__label__PATIO_FURNITURE_SETS', '__label__ENGINE_VALVES', '__label__TOILETRY_BAGS', '__label__SERVING_AND_HOME_TRAYS', '__label__COSTUMES', '__label__FISHING_RODS', '__label__PUZZLE_CUBES', '__label__GUITAR_STRINGS', '__label__DESIGN_AND_MULTIMEDIA_SOFTWARE', '__label__LUNCHBOXES', '__label__AV_RECEIVERS', '__label__SOUND_CARDS', '__label__SAFETY_FOOTWEAR', '__label__SHIRTS', '__label__TV_RECEIVERS_AND_DECODERS', '__label__ELECTRIC_GUITARS', '__label__BUTTON_PINS', '__label__BABIES_FOOTWEAR', '__label__MUSICAL_TUNERS', '__label__HAND_AND_FOOT_CREAMS', '__label__REMOTE_CONTROL_TOY_VEHICLES', '__label__FOG_LIGHTS', '__label__LAPTOP_LCD_SCREENS', '__label__FABRICS', '__label__SORTING_AND_STACKING_TOYS', '__label__CAMERA_LENSES', '__label__HEADBOARDS', '__label__AUTOMOTIVE_ENGINE_CYLINDER_HEADS', '__label__GAME_CONSOLES', '__label__POWERED_RIDE_ON_TOYS', '__label__TEA', '__label__INTERCOOLER_HOSES', '__label__INSTRUMENT_AMPLIFIERS', '__label__EROTIC_COSTUMES', '__label__SUSPENSION_BALL_JOINTS', '__label__LOAFERS_AND_OXFORDS', '__label__JACKETS_AND_COATS', '__label__MAF_SENSORS', '__label__TOY_BUILDING_SETS', '__label__HANDBAGS', '__label__ENGINE_OILS', '__label__VEHICLE_SPEAKERS', '__label__AUTOMOTIVE_POWER_WINDOW_REGULATORS', '__label__CAR_DOOR_HINGES', '__label__CLOTHING_PATCHES', '__label__LIGHT_BULBS', '__label__WATER_RADIATORS', '__label__AIR_CONDITIONERS', '__label__KITCHEN_CABINETS', '__label__KIDS_TRICYCLES', '__label__CAR_HOODS', '__label__BABY_PACIFIERS', '__label__CATS_AND_DOGS_FOODS', '__label__TABLECLOTHS', '__label__OUTDOOR_TABLES', '__label__HYDRAULIC_VEHICLE_JACKS', '__label__LAPTOP_KEYBOARDS', '__label__AUTOMOTIVE_AC_COMPRESSORS', '__label__PERSONAL_LUBRICANTS_AND_GELS', '__label__RACKS_AND_PINIONS', '__label__BEDS', '__label__RAM_MEMORY_MODULES', '__label__MOTORCYCLE_STARTER_MOTORS', '__label__SARONGS', '__label__LADDERS', '__label__BODY_SKIN_CARE_PRODUCTS', '__label__COMPUTER_PROCESSORS', '__label__ACOUSTIC_GUITARS', '__label__THERMOSES', '__label__TELEVISIONS', '__label__EYESHADOWS', '__label__MOTORCYCLE_CASES', '__label__LIVING_ROOM_SETS', '__label__SHAVING_MACHINES', '__label__FOOTBALL_CAPS', '__label__NAIL_POLISH', '__label__PORTABLE_ELECTRIC_MASSAGERS', '__label__STUFFED_TOYS', '__label__PICTURE_FRAMES', '__label__LASER_PRINTER_DRUMS', '__label__LINGERIE_SETS', '__label__DOORS', '__label__TV_ANTENNAS', '__label__MICROPHONES', '__label__MOTORCYCLE_RAIN_SUITS', '__label__SUNGLASSES', '__label__PRINTERS', '__label__MAKEUP_BRUSHES', '__label__POTENTIOMETERS', '__label__CAR_TURN_SIGNAL_LIGHTS', '__label__AUTOMOTIVE_ENGINE_MOUNTS', '__label__BELTS', '__label__TV_STORAGE_UNITS', '__label__WINDSHIELD_WIPERS', '__label__SWIMMING_GOGGLES', '__label__AUTOMOTIVE_OIL_FILTERS', '__label__JUMPSUITS_AND_OVERALLS', '__label__ELECTRIC_SCREWDRIVERS', '__label__SURVEILLANCE_CAMERAS', '__label__BATHROOM_FAUCETS', '__label__DINING_SETS', '__label__KITCHEN_BOWLS', '__label__AUDIO_INTERFACES', '__label__VIDEO_GAME_PREPAID_CARDS', '__label__FISHING_REELS', '__label__CIRCUIT_BREAKERS', '__label__MALE_MASTURBATORS', '__label__NOTEBOOKS_AND_WRITING_PADS', '__label__MOTORCYCLE_HELMETS', '__label__CAR_ENGINE_CAMSHAFT_SENSORS', '__label__BLANK_DISCS', '__label__BEDROOM_SETS', '__label__LATEX_ENAMEL_AND_ACRYLIC_PAINTS', '__label__HANDICRAFT_BOXES', '__label__BRAS', '__label__SMARTWATCHES', '__label__WALLETS', '__label__SPARK_PLUG_WIRESETS', '__label__FOOTBALL_SHOES', '__label__HOOD_HINGES', '__label__AUTOMOTIVE_SUSPENSION_CONTROL_ARMS', '__label__ENGINE_OIL_DIPSTICKS', '__label__MOUSE_PADS', '__label__BOARD_GAMES', '__label__LAPTOP_HOUSINGS', '__label__COOKING_OILS', '__label__MOTORCYCLE_GASOLINE_TANKS', '__label__TABLETS', '__label__DISPOSABLE_GLOVES', '__label__SOAP_HOLDERS', '__label__PC_KEYBOARDS', '__label__CAR_GEARBOXES', '__label__ANTIQUE_TOY_CARS', '__label__MOTORCYCLE_TIRES', '__label__TOILET_RUGS', '__label__SOCKS', '__label__BABY_WALKERS', '__label__MOTORCYCLE_TURN_SIGNAL_LIGHTS', '__label__FANNY_PACKS', '__label__BASKETBALL_JERSEYS', '__label__MOBILE_DEVICE_CHARGERS', '__label__CANDLE_HOLDERS', '__label__AUDIO_AND_VIDEO_CONNECTORS', '__label__VR_HEADSETS', '__label__PLANNERS_AND_PERSONAL_DIARIES', '__label__PROTECTION_NETS', '__label__DRIVE_SHAFTS', '__label__VEGETABLES_AND_FRUITS_CHOPPERS', '__label__GARDENING_AND_AGRICULTURE_SEEDS', '__label__PUSH_AND_RIDING_TOYS', '__label__POOL_INFLATABLES', '__label__MOTORCYCLE_LEVERS', '__label__KITCHEN_PLAYSETS', '__label__POUFS', '__label__FLOOR_LAMPS', '__label__ENGINE_PISTONS', '__label__CAR_STEREOS', '__label__MIRRORS', '__label__ENGINE_BEARINGS', '__label__PLAYING_CARDS', '__label__ENGINE_GASKET_SETS', '__label__POWER_STRIPS', '__label__BATTERY_CHARGERS', '__label__AUTOMOTIVE_SIDE_VIEW_MIRRORS', '__label__AUTOMOTIVE_MIRROR_COVERS', '__label__NETWORK_CARDS', '__label__JEWELRY_BOXES', '__label__VIDEO_CAMERAS', '__label__DRUM_STANDS', '__label__BASS_GUITARS', '__label__WALLPAPERS', '__label__CAMERA_CASES', '__label__SIDE_TABLES', '__label__GATE_MOTORS', '__label__ROUTERS', '__label__DRYING_RACKS', '__label__COMPUTER_MONITORS', '__label__AUTOMOTIVE_DEFLECTORS', '__label__TABLEWARE_SETS', '__label__BICYCLE_PEDALS', '__label__AIRSOFT_GUNS', '__label__FOOTBALL_GOALKEEPER_GLOVES', '__label__BABY_PLAYARDS', '__label__AUTOMOTIVE_CELLPHONE_AND_GPS_MOUNTS', '__label__POWER_STEERING_HOSES', '__label__WATER_PURIFIERS_FILTERS', '__label__HAMMER_DRILLS', '__label__OUTER_TIE_ROD_ENDS', '__label__TELEPHONES', '__label__CAMERA_MONOPODS', '__label__MARKERS_AND_HIGHLIGHTERS', '__label__PUZZLES', '__label__KEYBOARD_CONTROLLERS', '__label__AUTOMOTIVE_WEATHERSTRIPS', '__label__MOTORCYCLE_SPEEDOMETERS', '__label__EROTIC_MAGAZINES', '__label__SCHOOL_AND_OFFICE_ENVELOPES', '__label__CHAMPAGNES', '__label__SUNBATHING_CHAIRS', '__label__CAR_AC_HOSE_ASSEMBLIES', '__label__LAPTOP_BRIEFCASES', '__label__TACTICAL_AND_SPORTING_KNIVES_AND_BLADES', '__label__ICE_BUCKETS', '__label__PARTY_PRINTABLE_KITS', '__label__NETWORK_CABLES', '__label__ECT_SENSORS', '__label__PROJECTOR_LAMPS', '__label__NETWORK_SWITCHES', '__label__GAS_LIFT_SUPPORTS', '__label__VEHICLE_BRAKE_HYDRAULIC_HOSES', '__label__ANALOG_CAMERAS', '__label__DOG_CARRIERS_AND_CARRYING_BAGS', '__label__BATHROOM_SINKS', '__label__ROOF_RACKS', '__label__KITCHEN_FAUCETS', '__label__RESISTANCE_BANDS', '__label__DISTRIBUTION_KITS', '__label__LONGBOARDS', '__label__PENDRIVES', '__label__BICYCLE_BAGS', '__label__MALE_UNDERWEAR', '__label__ENGINE_VALVES_SPRING_RETAINERS', '__label__VIBRATORS', '__label__AUTOMOTIVE_THROTTLE_BODIES', '__label__BINOCULARS', '__label__MOTORCYCLE_CDI_MODULES', '__label__ENGINE_COOLING_FAN_SHROUDS', '__label__BICYCLE_HANDLEBARS', '__label__GAMEPADS_AND_JOYSTICKS', '__label__FLOOD_LIGHTS', '__label__TREADMILLS', '__label__FOOTBALL_KITS', '__label__STOOLS', '__label__CYCLING_COMPUTERS', '__label__AQUARIUM_FILTERS', '__label__TOOTHBRUSHES', '__label__VASES', '__label__LED_STRIPS', '__label__AUTOMOTIVE_CLUTCH_MASTER_CYLINDERS', '__label__SAFETY_GLOVES', '__label__PADDLE_TENNIS_RACKETS', '__label__AIRBAG_MODULES', '__label__CLUTCH_FORKS', '__label__MOTORCYCLE_SHOCK_ABSORBERS', '__label__HOLE_PUNCHES', '__label__DRONES', '__label__CYCLING_HELMETS', '__label__TOILET_PAPER_HOLDERS', '__label__HABERDASHERY_RIBBONS', '__label__AUTOMOTIVE_SIDE_VIEW_MIRROR_GLASSES', '__label__GUN_HOLSTERS', '__label__CAR_DISTRIBUTOR_CAPS', '__label__OFFICE_SOFTWARE', '__label__GEL_NAIL_KITS', '__label__MOTORCYCLE_PANTS', '__label__CERAMIC_TILES', '__label__DOLLHOUSES', '__label__HAND_BLENDERS', '__label__AUTOMOTIVE_STEERING_WHEELS', '__label__SHOWER_CADDIES', '__label__STEERING_COLUMNS', '__label__BRAKE_BOOSTERS', '__label__TURNTABLES', '__label__FISH_TANKS', '__label__AUTOMOTIVE_TRANSMISSION_GEARS', '__label__VODKAS', '__label__ENGINE_OIL_PRESSURE_SENSORS', '__label__USB_HUBS', '__label__MOTORCYCLE_IGNITION_COILS', '__label__WOOD_FLOORINGS', '__label__MULTI_TOOL_KNIVES', '__label__LIFE_JACKETS', '__label__MAKEUP_REMOVERS', '__label__SLEEPING_BAGS', '__label__MARTIAL_ARTS_AND_BOXING_GLOVES', '__label__CARDS_AND_INVITATIONS', '__label__AUTOMOTIVE_AMPLIFIERS', '__label__VIOLINS', '__label__CAR_AV_RECEIVERS', '__label__DOG_BEDS', '__label__ARTIFICIAL_PLANTS', '__label__DECORATIVE_TILES_AND_MOSAICS', '__label__TABLE_CLOCKS', '__label__BAR_CODE_SCANNERS', '__label__CHALKBOARDS_AND_WHITEBOARDS', '__label__ESPADRILLES', '__label__HEATER_CORES', '__label__CATS', '__label__TOOTHPASTES', '__label__HAND_POLISHERS', '__label__UNIVERSAL_CAR_REMOTES', '__label__DISC_PACKAGINGS', '__label__COFFEE_CAPSULES', '__label__SEAT_BELTS', '__label__MOTORCYCLE_OIL_PUMPS', '__label__BATHROOM_ACCESSORIES_SETS', '__label__WALL_LIGHT_SWITCHES', '__label__CRIB_BEDDING_SETS', '__label__CAR_SCREENS', '__label__NETBOOKS', '__label__SPORT_WATCHES', '__label__SPORT_AND_BAZAAR_BOTTLES', '__label__HARMONICAS', '__label__PROJECTOR_SCREENS', '__label__TORSION_BARS', '__label__CABIN_FILTERS', '__label__COMPUTER_AND_TV_FLEX_CABLES', '__label__KITCHEN_TOWELS', '__label__PENNANTS', '__label__POWER_STEERING_FLUID_RESERVOIRS', '__label__CRASHED_CARS', '__label__ENGINE_CRANKSHAFT_PULLEYS', '__label__REAR_WHEEL_HUBS_BEARING_ASSEMBLY', '__label__POPCORN_BOXES', '__label__HEADPIECES_TIARAS_AND_HEADBANDS', '__label__TV_REPLACEMENT_BACKLIGHT_LED_STRIPS', '__label__DIAPER_BAGS', '__label__SURFACES_PROTECTIVE_PAINTS', '__label__SWAY_BARS', '__label__TACTICAL_BAGS_AND_BACKPACKS', '__label__SOFA_AND_FUTON_COVERS', '__label__DEODORANTS', '__label__STATIONARY_BICYCLES', '__label__CAR_AIR_FRESHENERS', '__label__MOTORCYCLE_SUITS', '__label__IGNITION_SWITCH_ACTUATORS', '__label__ENGINE_COOLING_FAN_MOTORS', '__label__MAKEUP_TRAIN_CASES', '__label__BASEBOARDS', '__label__CAR_WINDOW_SWITCHES', '__label__CAKES', '__label__ELECTRIC_GRILLS', '__label__GAME_CONSOLE_AND_VIDEO_GAME_CONTROLLER_SKINS', '__label__CAMPING_STOVES', '__label__MINI_PCS', '__label__COMBUSTION_CHAINSAWS', '__label__POOL_LIGHTS', '__label__GIFT_CARDS', '__label__HOVERBOARDS', '__label__AIRGUN_PELLETS', '__label__ANIMAL_CLIPPERS', '__label__DOG_AND_CAT_SHAMPOOS_AND_CONDITIONERS', '__label__MICROCONTROLLERS', '__label__MANUAL_HAMMERS', '__label__HAND_SAWS', '__label__DRUM_BRAKE_SHOES', '__label__PORCELAIN_TILES', '__label__TEETH_WHITENING_PRODUCTS', '__label__HAIR_MOLDING_AND_STYLING', '__label__COOKING_SCALES', '__label__ENGINE_CRANKSHAFT_POSITION_SENSORS', '__label__NECKTIES', '__label__ROOF_PANELS', '__label__TOY_TRAINS', '__label__VEHICLE_CV_AXLES', '__label__GYM_GLOVES', '__label__MOTORCYCLE_HANDLEBARS', '__label__FOOD_PROCESSORS', '__label__NAIL_DRYERS', '__label__CAR_INTERCOOLERS', '__label__FLUTES', '__label__GLOW_PLUG_CONTROLLERS', '__label__SELF_ADHESIVE_LABELS', '__label__CAKE_STANDS', '__label__STRAWS', '__label__TOOL_MILLS', '__label__WALL_ANCHOR_PLUGS', '__label__ROOF_TILES', '__label__GARDEN_BENCHES', '__label__BRAKE_LIGHT_SWITCHES', '__label__INDUSTRIAL_AND_COMMERCIAL_SCALES', '__label__SUNSCREENS', '__label__LIQUORS', '__label__TOY_ROBOTS', '__label__EPILATORS', '__label__VOLTAGE_REGULATORS', '__label__BEAUTY_WIGS', '__label__ROLL_BARS', '__label__CAMERA_AND_CELLPHONE_STABILIZERS', '__label__VEHICLE_TRACKERS', '__label__BUMPER_IMPACT_ABSORBERS', '__label__MOTORCYCLE_GRAB_BARS', '__label__PACKAGING_CONTAINERS', '__label__WASTE_BASKETS', '__label__TEA_KETTLES', '__label__CAR_SPOILERS', '__label__IGNITION_CONTROL_MODULES', '__label__KITCHEN_FURNITURE', '__label__SAFES', '__label__EXTERNAL_LAPTOP_COOLERS', '__label__SNAP_OFF_UTILITY_KNIVES', '__label__AUTOMOTIVE_DOOR_PANELS', '__label__OIL_DIFFUSERS', '__label__SPICE_RACKS', '__label__FURNITURE_KNOBS', '__label__SHOE_RACKS', '__label__MEMORY_CARD_READERS', '__label__COMBS', '__label__GUITAR_PICKS', '__label__SANDPAPERS', '__label__INSECTICIDES', '__label__VACUUM_TUBES', '__label__WHEEL_STUDS', '__label__SPICES', '__label__MICROPHONE_STANDS', '__label__TROLLEY_AND_FURNITURE_CASTERS', '__label__ENGINE_INTAKE_MANIFOLDS', '__label__STATUES', '__label__VIDEO_CAPTURE_DEVICES', '__label__PENIS_RINGS', '__label__MASCARAS', '__label__BODYWEIGHT_SCALES', '__label__AUTOMOTIVE_SEATS', '__label__COOKIES', '__label__FOUNDATIONS', '__label__GRILL_GRATES', '__label__CURLING_IRONS', '__label__ABS_SENSORS', '__label__SANDWICH_MAKERS', '__label__FUEL_LEVEL_FLOATS', '__label__SCREEN_PRINTERS', '__label__INJECTION_PUMPS', '__label__CALIPERS', '__label__MICROSCOPES', '__label__SUBMERSIBLE_PUMPS', '__label__CAR_POWER_STEERING_PUMPS', '__label__BRUSH_CUTTERS', '__label__MAP_SENSORS', '__label__HOME_APPLIANCE_CONTACTORS_AND_RELAYS', '__label__MOTORCYCLE_WHEEL_AXLES', '__label__ELECTRICITY_METERS', '__label__CELLPHONE_REPAIR_TOOL_KITS', '__label__INTERACTIVE_GAMING_FIGURES', '__label__CAR_ANTENNAS', '__label__PHOTO_ALBUMS', '__label__SQUEEZERS', '__label__AUTOMOTIVE_MANUAL_TRANSMISSION_SHIFT_LEVERS', '__label__GROUND_AND_WHOLE_BEANS_COFFEE', '__label__BABY_MONITORS', '__label__VISES', '__label__HAIR_STRAIGHTENING_BRUSHES', '__label__RECEPTION_DESKS', '__label__EDIBLE_SEEDS', '__label__MICRO_ROTARY_TOOLS', '__label__ENERGETIC_STONES', '__label__SNARE_DRUMS', '__label__IRRIGATION_VALVES', '__label__FISHES', '__label__NEBULIZERS', '__label__IDENTIFICATION_AND_PRESENTATION_CARDS', '__label__HAND_FILES', '__label__SCALEXTRIC_CARS', '__label__NAIL_FILES', '__label__MAGNIFYING_GLASSES', '__label__ELECTRICAL_OUTLETS', '__label__KITCHEN_SHOVELS_AND_SPATULAS', '__label__ENGINE_TAPPET_GUIDE_HOLDS', '__label__BAR_CLAMPS', '__label__CACHACAS', '__label__DECORATIVE_VASES', '__label__HUMIDIFIERS_AND_VAPORIZERS', '__label__KITCHEN_CABINET_ORGANIZERS', '__label__EXERCISE_MATS', '__label__BATHROOM_FAUCET_SETS', '__label__FLEA_AND_TICK_TREATMENTS', '__label__CONCEALERS', '__label__ACCORDIONS', '__label__STORAGE_WATER_HEATERS', '__label__PARKING_BRAKE_HANDLES', '__label__SURVEILLANCE_MONITORING_KITS', '__label__FLOUR', '__label__BABY_BOTTLES', '__label__PHOTOCOPIERS', '__label__EYELINERS', '__label__CORSETS', '__label__SHOWER_CURTAINS', '__label__DOORBELLS', '__label__ELECTRONIC_DRUMS', '__label__CHISELS', '__label__POOL_PUMPS', '__label__GRAPHICS_TABLETS', '__label__BABY_BOUNCERS', '__label__OPERATING_SYSTEMS', '__label__BRIEFCASES', '__label__MODEMS', '__label__ORTHOTICS', '__label__HOUSE_FENCES', '__label__STYLUSES', '__label__WINDSHIELD_WIPER_MOTORS', '__label__PUPPETS', '__label__TOBACCO_PIPES', '__label__TOILETS', '__label__GYM_DUMBBELLS', '__label__SUN_UMBRELLAS', '__label__CATS_AND_DOGS_TREATS', '__label__AUTOMOTIVE_SHIFT_LEVER_KNOBS', '__label__AIRBRUSHES', '__label__RADIO_BASE_STATIONS', '__label__EROTIC_PUMPS', '__label__POLY_MAILERS', '__label__MAKEUP_SPONGES', '__label__MOTORCYCLE_CHEST_PROTECTORS', '__label__SCISSORS', '__label__CAMERA_AND_VIDEO_CAMERA_BAGS_AND_CASES', '__label__EMBROIDERY_DESIGNS', '__label__AIR_MATTRESSES', '__label__JEWELRY_DISPLAYS', '__label__GAZEBOS', '__label__TOY_PLANES', '__label__BRAKE_LIGHTS', '__label__BABY_SWIMWEAR', '__label__TABLE_TENNIS_RACKETS', '__label__CHIP_AND_DIP_SERVERS', '__label__ENGINE_CYLINDER_HEAD_BOLTS', '__label__MAKEUP_VANITIES', '__label__DIGITAL_VOICE_RECORDERS', '__label__PAPER_NAPKINS', '__label__AUTOMOTIVE_REAR_BODY_TAIL_LIGHT_PANELS', '__label__TV_SERIES', '__label__CARD_PAYMENT_TERMINALS', '__label__PENIS_SLEEVES', '__label__PLACEMATS', '__label__NECK_GAITERS_MASKS_AND_BALACLAVAS', '__label__ELECTRIC_SHOWER_HEADS', '__label__VINYL_ROLLS', '__label__NON_CORRECTIVE_CONTACT_LENSES', '__label__FACE_POWDERS', '__label__HAND_BRAKE_CABLES', '__label__ULTRABOOKS', '__label__BICYCLE_FRAMES', '__label__ENGINE_COOLING_FAN_SWITCHES', '__label__CHESTS', '__label__CAR_CENTER_CONSOLES', '__label__MOTORCYCLE_HANDLEBAR_YOKES', '__label__SPORT_AND_MEDICAL_BANDAGES', '__label__WELDING_MASKS', '__label__CUSHION_COVERS', '__label__IDLER_ARMS', '__label__DRYER_MACHINES', '__label__CONDOMS', '__label__HONEY', '__label__INDUSTRIAL_PULLEYS', '__label__DVR_RECORDERS', '__label__AUTOMOTIVE_BLOWER_HEATER_MOTORS', '__label__TABLET_KEYBOARDS', '__label__AIRBAGS', '__label__AUTOMOTIVE_TIMING_BELTS', '__label__SOLAR_PANELS', '__label__CHRISTMAS_TREE_ORNAMENTS', '__label__MANNEQUINS', '__label__MATE_GOURDS', '__label__WETSUITS', '__label__EXHAUST_MANIFOLDS', '__label__BAR_SOAPS', '__label__LIP_GLOSSES', '__label__LATHES', '__label__PARKING_SENSORS', '__label__CONTINUOUS_INK_SYSTEMS', '__label__KNEE_BRACES_SUPPORTS', '__label__UNDERWEAR_ORGANIZERS', '__label__BLOOD_PRESSURE_MONITORS', '__label__FIELD_HOCKEY_STICKS', '__label__PRINTER_RIBBONS', '__label__CARABINERS', '__label__POOL_CHLORINE', '__label__MONEY_BOXES', '__label__EROTIC_CREAMS', '__label__CHAFING_DISHES', '__label__DVD_RECORDERS', '__label__PILATES_BALLS', '__label__LASER_MEASURES', '__label__BOTTLE_OPENERS', '__label__EROTIC_BOOKS', '__label__UPS_BATTERIES', '__label__PORTABLE_EVAPORATIVE_AIR_COOLERS', '__label__SCREWDRIVERS_SETS', '__label__CAR_AC_EXPANSION_VALVES', '__label__KIDS_TABLES_AND_CHAIRS_SETS', '__label__INSTANT_COFFEE', '__label__MOTORCYCLE_GEARBOXES', '__label__BREAKFASTS_AND_AFTERNOON_TEAS', '__label__AUTOMOTIVE_ENGINE_VALVE_COVERS', '__label__TOOTHBRUSH_HOLDERS', '__label__MANUAL_SCREWDRIVERS', '__label__NAIL_ART_BRUSHES', '__label__VIDEO_CASSETTES', '__label__CUTTING_BOARDS', '__label__TABLET_BATTERIES', '__label__PRESSURE_GAUGES', '__label__TACTICAL_VESTS', '__label__WATER_DISPENSERS', '__label__WATER_TANKS', '__label__DECORATIVE_PANELS', '__label__PLAYGROUND_SWING_SETS', '__label__SEWING_THREADS', '__label__COMPRESSION_SLEEVES', '__label__COASTERS', '__label__FRAME_POOLS', '__label__BABY_GYMS', '__label__COUNTERTOPS', '__label__PREAMPLIFIERS', '__label__SECURITY_SEALS', '__label__HAMMOCKS', '__label__TAPE_DECKS', '__label__LABEL_MAKERS', '__label__STETHOSCOPES', '__label__CAT_SCRATCHERS', '__label__HYGROMETERS', '__label__HEAT_GUNS', '__label__UNIVERSAL_REMOTE_CONTROLS', '__label__JUMP_ROPES', '__label__AUTOMOTIVE_FUEL_TANK_DOORS', '__label__FIRE_EXTINGUISHERS', '__label__IMPACT_WRENCHES', '__label__DRUM_PEDALS', '__label__POOL_COVERS', '__label__TENNIS_BAGS', '__label__TELESCOPES', '__label__XENON_KITS', '__label__STRAP_ONS', '__label__KITCHEN_GRATERS', '__label__WINDSHIELD_WASHER_FLUID_RESERVOIRS', '__label__CAMPING_CHAIRS', '__label__JUICERS', '__label__FALSE_EYELASHES', '__label__GARDEN_CHAIRS', '__label__LAPTOP_STANDS', '__label__INDUSTRIAL_COOKING_OVENS', '__label__PONCHOS', '__label__KITCHEN_KNIVES', '__label__FUEL_INJECTION_RAILS', '__label__DOOR_AND_GATE_REMOTE_CONTROLS', '__label__WASHING_AND_DRYER_MACHINE_COVERS', '__label__PUNCHING_BAGS', '__label__AUTOMOTIVE_NERF_BARS', '__label__GLOW_PLUGS', '__label__DISPOSABLE_CUPS', '__label__TABLET_CASES', '__label__VOLLEYBALL_BALLS', '__label__DISHWASHERS', '__label__BICYCLE_AND_MOTORCYCLE_ALARMS', '__label__CENTRIFUGAL_PUMPS', '__label__PARTY_GLASSES', '__label__GARAGE_DOORS', '__label__INDUSTRIAL_AND_COMMERCIAL_BAG_SEALERS', '__label__DISC_BRAKE_CALIPER_PISTONS', '__label__SHAVING_CREAMS', '__label__TABLE_RUNNERS', '__label__LASER_LEVELS', '__label__RIVETS', '__label__TENNIS_BALLS', '__label__RACKET_STRINGS', '__label__STAPLERS', '__label__MAGNETIC_COMPASSES', '__label__TELEPHONE_CABLES', '__label__WHEELCHAIRS', '__label__BARBECUE_TOOL_SETS', '__label__HAIRDRESSING_CAPS', '__label__LINEMAN_PLIERS', '__label__MICROMETERS', '__label__ELECTRONIC_SWITCHES', '__label__ANTIVIRUS_AND_INTERNET_SECURITY', '__label__CAR_AC_DASHBOARD_VENTS', '__label__RICE_COOKERS', '__label__BASKET_BALLS', '__label__TRUMPETS', '__label__STRING_TRIMMERS', '__label__TEAPOTS', '__label__YARNS', '__label__LUMBAR_AND_ABDOMINAL_BRACES', '__label__SHADE_CLOTHS', '__label__ELECTRICAL_TIMERS', '__label__ENGINE_COOLING_FAN_CLUTCHES', '__label__VARIABLE_FREQUENCY_DRIVES', '__label__PERMANENT_EPILATORS', '__label__ACTION_CAMERA_MOUNTS', '__label__PAINT_ROLLERS', '__label__DJ_EFFECTS_PROCESSORS', '__label__PLUNGE_ROUTERS', '__label__EASTER_EGGS', '__label__GYM_BARS', '__label__IRRIGATION_SPRINKLERS', '__label__CHRISTMAS_LIGHTS', '__label__ELLIPTICAL_MACHINES', '__label__STEEL_SCRAPERS', '__label__TOY_GUITARS', '__label__SUMP_GUARDS', '__label__MODELISM_SERVO_MOTORS', '__label__PACKAGING_ROLLS', '__label__VIDEOCASSETTE_PLAYERS', '__label__BEER_DISPENSERS', '__label__KNITTING_NEEDLES', '__label__TURNTABLE_NEEDLES', '__label__ARTIFICIAL_FLOWERS', '__label__FRANKLIN_STOVES', '__label__HORSE_SADDLES', '__label__LENS_HOODS', '__label__CAR_EXHAUSTS', '__label__VINYL_FLOORINGS', '__label__AUTOMOTIVE_FUEL_TANKS', '__label__FUTONS', '__label__3D_GLASSES', '__label__CLARINETS', '__label__METAL_NAILS', '__label__MOTORCYCLE_IGNITION_SWITCHES', '__label__CAMERA_STRAPS', '__label__GAUZES', '__label__WIRELESS_FM_TRANSMITTERS', '__label__BATHROOM_GRAB_BARS', '__label__WINE_ACCESSORY_SETS', '__label__JUICES', '__label__SAFETY_GOGGLES', '__label__COMMERCIAL_LIGHT_SIGNS', '__label__BIRD_DRINKERS_AND_FEEDERS', '__label__DJ_CASES', '__label__EQUALIZERS', '__label__PARTY_DECORATIVE_BACKDROPS', '__label__HOOKAHS', '__label__NAPKIN_HOLDERS', '__label__TREADMILL_RUNNING_BELTS', '__label__LCD_DISPLAYS', '__label__ACOUSTIC_PANELS', '__label__IP_TELEPHONES', '__label__COLANDERS', '__label__TRAVEL_DOCUMENT_ORGANIZERS', '__label__RIDING_STIRRUPS', '__label__LAUNDRY_ROOM_CABINETS', '__label__HEADLAMPS', '__label__MARKING_AND_WARNING_TAPES', '__label__NAIL_STICKERS', '__label__SIM_CARDS', '__label__DJ_TURNTABLES', '__label__DIVING_MASKS', '__label__CORKSCREWS', '__label__CATS_LITTER', '__label__DEVICE_PROGRAMMERS', '__label__CLEANING_SPONGES', '__label__INFLATABLE_BALL_PITS', '__label__FOOD_SLICERS', '__label__WINE_CELLARS', '__label__AUTOMOTIVE_ARMRESTS', '__label__ELECTRONIC_MUSCLE_STIMULATORS', '__label__MOTORCYCLE_EXHAUSTS', '__label__HAND_TRUCKS', '__label__EMPLOYEE_TIME_CLOCKS', '__label__DISPOSABLE_PARTY_KITS', '__label__STYLING_CHAIRS', '__label__MILK_EXTRACTORS', '__label__BEDLINERS', '__label__BUTT_PLUGS', '__label__ERASERS', '__label__PENCIL_SHARPENERS', '__label__AUTOMOTIVE_PAINTS', '__label__AFTERSHAVES', '__label__ELECTRONIC_LOCKS', '__label__MOTORCYCLE_CLUTCH_COVERS', '__label__BREAST_FEEDING_PILLOWS', '__label__PIANOS', '__label__GREEN_WALLS_AND_LIVING_PAINTINGS', '__label__ELECTRIC_HAND_PLANERS', '__label__CEREAL_BARS', '__label__CATHETERS', '__label__STEAM_CLEANERS', '__label__TATTOO_INKS', '__label__MEAT_GRINDERS', '__label__CAR_FRONT_MASKS', '__label__TRASH_BAGS', '__label__BLU_RAY_PLAYERS', '__label__TABLE_DRILLS', '__label__COFFEE_POD_HOLDERS', '__label__HUMIDORS', '__label__LAMP_HOLDERS', '__label__SOAP_AND_DETERGENT_DISPENSERS', '__label__TIMERS', '__label__BUCKETS_AND_BASINS', '__label__COIN_PURSES', '__label__3D_PRINTERS', '__label__AUTOMOTIVE_SHOCK_ABSORBER_BUMP_STOPS', '__label__KIDS_TENTS', '__label__ARCHERY_ARROWS', '__label__KIDS_PLAYHOUSES', '__label__STIMULATING_PILLS_AND_CAPSULES', '__label__CAMERA_BATTERY_GRIPS', '__label__PORTABLE_DVD_PLAYERS', '__label__FLATWARE_ORGANIZERS', '__label__HEARING_PROTECTORS', '__label__RESPIRATORS', '__label__PLAYGROUND_SLIDES', '__label__TRAMPOLINES', '__label__SEX_TOY_KITS', '__label__UNIVERSAL_HOME_GYMS', '__label__LEARNING_TOY_LAPTOPS', '__label__CRAYONS', '__label__TRAILER_HITCHES', '__label__MULTIGAME_MACHINES', '__label__GOLF_CLUBS_WOODS_AND_HYBRIDS', '__label__CAMERA_REPLACEMENT_DISPLAYS', '__label__INDUSTRIAL_DOUGH_KNEADERS', '__label__TOY_CELLPHONES', '__label__AUTOMOTIVE_HEATER_VALVES', '__label__PORTABLE_HANGING_SCALES', '__label__PAINTBALL_MARKERS', '__label__INDUSTRIAL_SAWS', '__label__LAPTOP_SKINS', '__label__HABERDASHERY_BEADS', '__label__DIESEL_VACUUM_PUMPS', '__label__FOOD_PACKAGING_BOXES', '__label__KEYBOARD_AND_DIGITAL_PIANO_STANDS', '__label__BREAD_MAKERS', '__label__FOOSBALL_TABLES', '__label__KITCHEN_TONGS', '__label__ARCHERY_BOWS', '__label__MUSICAL_KEYBOARD_CASES_AND_BAGS', '__label__STATIONARY_ENGINES', '__label__SEX_DOLLS', '__label__POOL_FILTERS', '__label__TORQUE_WRENCHES', '__label__WELDING_RODS', '__label__YOGA_MATS', '__label__WELDING_BLOWTORCHES', '__label__LAUNDRY_BASKETS', '__label__HEATING_PADS', '__label__BROCHURES', '__label__CHRISTMAS_TREES', '__label__BONGOS', '__label__BIRD_TOYS', '__label__DRONE_BATTERIES', '__label__THERMOMETERS', '__label__PLANT_POT_STANDS', '__label__VIDEO_GAME_CONTROLLER_COVERS', '__label__PINCERS', '__label__EROTIC_BALLS', '__label__GINS', '__label__HABERDASHERY_LACE_EDGINGS', '__label__RIVET_GUNS', '__label__SALT', '__label__DRAWING_BOARDS_AND_TABLES', '__label__SHIN_GUARDS', '__label__REFRIGERANT_GASES', '__label__FABRIC_SOFTENERS', '__label__POOL_WATERFALLS', '__label__ORAL_IRRIGATORS', '__label__GARDEN_SOIL', '__label__BICYCLE_TIRE_REPAIR_KITS', '__label__GONDOLA_SHELVING_UNITS', '__label__AUTOMOTIVE_AIR_FILTER_BOXES', '__label__TOY_GARAGES_AND_GAS_STATIONS', '__label__MEGAPHONES', '__label__GARDEN_SHEDS', '__label__WET_BABY_WIPES', '__label__MANICURE_AND_PEDICURE_DRILLS', '__label__HAIRDRESSING_CAPES', '__label__RADIO_FREQUENCY_MACHINES', '__label__BABY_PACIFIER_CLIPS', '__label__3D_PRINTER_FILAMENTS', '__label__SWEETENERS', '__label__POPCORN_MACHINES', '__label__MICROWAVE_KEYPADS', '__label__WOOD_PROTECTIVE_PAINTS', '__label__AB_ROLLER_WHEELS', '__label__KITES', '__label__ELECTRIC_BLOWERS', '__label__ASPHALT_ROOFING_MEMBRANES', '__label__RUBBER_FLOORS', '__label__TAROT_CARDS', '__label__INDUSTRIAL_ICE_CREAM_MACHINES', '__label__APERITIFS', '__label__SOLDERING_STATIONS', '__label__NETWORK_PLUGS', '__label__BABY_GROOMING_KITS', '__label__ORTHOPEDIC_ANKLE_BRACES', '__label__CONSTRUCTION_BEAMS', '__label__RABBIT_AND_RODENT_CAGES', '__label__SOLID_SWEET_PASTES', '__label__CONSTRUCTION_PROFILES', '__label__GAS_BOILERS', '__label__BEACH_PADDLES', '__label__COOKING_PLOW_DISCS', '__label__BDSM_HANDCUFFS', '__label__FIBER_OPTIC_SPLITTERS', '__label__ELECTRIC_LAWN_MOWERS', '__label__JAMS', '__label__METAL_DETECTORS', '__label__BILLIARD_TABLES', '__label__SAFETY_HELMETS', '__label__INFLATABLE_BOUNCE_HOUSES', '__label__GARDENING_AND_CONSTRUCTION_SHOVELS', '__label__TV_BUTTON_BOARDS', '__label__MICRODERMABRASION_MACHINES', '__label__KITCHEN_SINK_CADDY_ORGANIZERS', '__label__BRICKS', '__label__METAL_WIRES', '__label__PREFABRICATED_FIBERGLASS_POOLS', '__label__CONSTRUCTION_FINISHING_TROWELS', '__label__HOME_BOTTLE_STANDS', '__label__PAPER_SHREDDERS', '__label__TALCUMS', '__label__VARNISHES', '__label__DRYWALLS', '__label__MOUTHWASHES', '__label__GRIPS_AND_OVERGRIPS', '__label__WORKOUT_BENCHES', '__label__ELECTRIC_AIR_PUMPS', '__label__ROOSTERS_AND_HENS', '__label__SKI_AND_SNOWBOARD_GOGGLES', '__label__EROTIC_MASSAGE_OILS', '__label__ANTIQUE_TAPE_RECORDERS', '__label__DULCE_DE_LECHE', '__label__SPORTS_CONES', '__label__BABY_STERILIZERS', '__label__BABY_ACTIVITY_TABLES', '__label__ELECTRIC_FOOD_STEAMERS', '__label__CACAO', '__label__SLATWALL_PANEL_SUPPORTS', '__label__LIP_BALMS', '__label__MARTIAL_ARTS_BELTS', '__label__AXES', '__label__OSCILLOSCOPES', '__label__COLD_ROOMS', '__label__TEQUILAS', '__label__BALL_PIT_BALLS', '__label__TILE_CUTTERS', '__label__FISHING_VESTS', '__label__CEREALS', '__label__PROJECTOR_MOUNTS', '__label__DEHUMIDIFIERS', '__label__RUM', '__label__LASER_POINTERS', '__label__WIRE_STRIPPERS', '__label__DRONE_PROPELLERS', '__label__ORTHOPEDIC_WALKER_BOOTS', '__label__ELECTRIC_DEMOLITION_HAMMERS', '__label__MEDICAL_WALKERS', '__label__SYRINGES', '__label__MONOCULARS', '__label__FOLDING_SCREENS', '__label__ORTHOPEDIC_WRIST_BRACES', '__label__POOL_CLEANERS', '__label__MILK', '__label__RADIO_FREQUENCY_MICROPHONES', '__label__PAPER_CLIPS', '__label__FISH_TANK_THERMOSTATS', '__label__WALKIE_TALKIE_BATTERIES', '__label__SPARKLING_WINES', '__label__MUSIC_STANDS', '__label__TOILET_BRUSHES', '__label__KATANA_SWORDS', '__label__MIRROR_BALLS', '__label__ELECTRIC_GLUE_GUNS', '__label__ELECTRIC_BATHROOM_FAUCETS', '__label__SELF_TANNERS', '__label__FLASH_TRIGGERS', '__label__BROCHURE_HOLDERS', '__label__DENTAL_PLIERS', '__label__FAX_MACHINES', '__label__EMBROIDERY_MACHINES', '__label__GAS_CYLINDERS', '__label__HEDGE_TRIMMERS', '__label__CONCERTINA_WIRES', '__label__SHAPER_AND_MILLING_MACHINES', '__label__FILING_CABINETS', '__label__BABY_CHANGING_PADS', '__label__AQUARIUM_SKIMMERS', '__label__DOG_NAIL_CLIPPERS', '__label__MENSTRUAL_CUPS', '__label__BASKETBALL_BACKBOARDS_AND_HOOPS', '__label__PASTAS', '__label__TEA_INFUSERS', '__label__PNEUMATIC_STAPLERS', '__label__BODYBOARDS', '__label__CNC_LATHES', '__label__WATER_FLOW_SENSORS', '__label__HEARING_AIDS', '__label__STICKY_NOTES', '__label__HYDROPHILIC_COTTON', '__label__OUTDOOR_BLINDS', '__label__STONE_FLOORINGS', '__label__MDF_BOARDS', '__label__KITCHEN_MORTARS', '__label__LAMINATORS', '__label__CUE_STICKS', '__label__AEROBIC_CRUNCH_MACHINES', '__label__KEYBOARD_AND_PIANO_PEDALS', '__label__SURGICAL_MASKS', '__label__PLASMA_CUTTERS', '__label__INFLATABLE_SOFAS', '__label__OXIMETERS', '__label__MAGNETIC_WELDING_HOLDERS', '__label__ROLLER_SKATE_WHEELS', '__label__BOMBOS', '__label__READY_TO_DRINK_COCKTAILS', '__label__MEDICINE_BALLS', '__label__VOLTAGE_DETECTORS', '__label__DECORATIVE_COLUMNS', '__label__SPHYGMOMANOMETERS', '__label__PANETTONES', '__label__TV_TUNERS', '__label__CRUTCHES', '__label__BILL_COUNTERS', '__label__GROOVE_JOINT_PLIERS', '__label__VACUUM_PUMPS', '__label__FREEZER_BAGS', '__label__STOVETOP_POPCORN_POPPERS', '__label__MANUAL_HOISTS', '__label__DRAWING_COMPASSES', '__label__KIDS_WALKIE_TALKIES', '__label__FOOD_CARTS', '__label__DENTAL_CHAIRS', '__label__PAINTBALLS', '__label__GAS_DETECTORS', '__label__BABY_SAFETY_LOCKS', '__label__SLATWALL_PANELS', '__label__FALSE_CEILINGS', '__label__HEEL_CUPS', '__label__VEGETABLES_AND_FRUITS', '__label__PHOTOGRAPHY_BACKDROP_STANDS', '__label__BINDING_SPINES', '__label__HOSPITAL_BEDS', '__label__LAPTOP_LOCKS', '__label__HAND_FANS', '__label__TABLE_BASES', '__label__OFFSET_PRINTERS', '__label__CASH_DRAWERS', '__label__BEER_FAUCETS', '__label__ULTRASONIC_CAVITATION_MACHINES', '__label__GATE_GEAR_RACKS', '__label__FLOOR_PAINTS', '__label__WORLD_GLOBES', '__label__FAN_PROPELLERS', '__label__NAUTICAL_FUEL_TANKS', '__label__KITCHEN_THERMOMETERS', '__label__DENTAL_FLOSSES', '__label__SWIMMING_POOL_HEATERS', '__label__WAFFLE_MAKERS', '__label__INSTRUMENT_CABLES', '__label__BABY_JUMPERS', '__label__SAFETY_HARNESSES', '__label__OTOSCOPES', '__label__GOLF_CLUBS_SETS', '__label__POLYFUSION_DEVICES', '__label__WHEELBARROWS', '__label__CAN_OPENERS', '__label__ANIMAL_AND_BALL_HOPPERS', '__label__SCAFFOLDS', '__label__VIBRATION_PLATFORMS', '__label__FITNESS_TRAMPOLINES', '__label__CLEANING_GLOVES', '__label__TANDEM_CHAIRS', '__label__LIGHT_STANDS', '__label__KID_SKATEBOARDS', '__label__SNACK_HOLDERS', '__label__CUPCAKE_STANDS', '__label__MANUAL_GRAIN_MILLS', '__label__NASAL_CPAP_MASKS', '__label__BEER_BREWING_EQUIPMENTS', '__label__TEMPORARY_TATTOOS', '__label__PLASTIC_INJECTION_MOLDING_MACHINES', '__label__BREADS', '__label__ABDOMINAL_TONING_BELTS', '__label__TOY_VANITIES', '__label__BABY_BOTTLE_WARMERS', '__label__SQUEEGEES', '__label__CAMERA_CRANES', '__label__FIRST_AID_KITS', '__label__CHURRO_MAKING_MACHINES', '__label__REFLECTIVE_VESTS', '__label__PHOTOGRAPHIC_INSTANT_FILMS', '__label__EROTIC_MALE_UNDERWEAR', '__label__FINGERPRINT_READERS', '__label__WALKMANS', '__label__SODS', '__label__SKIS', '__label__RICE', '__label__GOLF_BAGS', '__label__STEPPERS', '__label__CORRECTION_TAPES_AND_FLUIDS', '__label__HOUSEHOLD_CLEANING_WAXES', '__label__CONFETTI_SHOOTERS', '__label__TABLE_TENNIS_BALLS', '__label__BICYCLE_COVERS', '__label__CAR_EMERGENCY_KITS', '__label__COMBUSTION_WATER_PUMPS', '__label__KINESIOLOGY_TAPES', '__label__RUGBY_BALLS', '__label__PERGOLAS', '__label__GOAL_NETS', '__label__KITESURF_BOARDS', '__label__DJEMBES', '__label__BASEBALL_AND_SOFTBALL_BATS', '__label__CEMENT', '__label__ELECTRIC_BROOMS', '__label__FOOTBALL_GOALS', '__label__HANDBALL_BALLS', '__label__STEP_PLATFORMS', '__label__BDSM_WHIPS', '__label__EASELS', '__label__NON_SLIP_BATHTUB_APPLIQUES_AND_MATS', '__label__TABLE_TENNIS_TABLES', '__label__TREKKING_POLES', '__label__CONTROLLER_PADS', '__label__COUNTERFEIT_MONEY_DETECTOR_MACHINE', '__label__CONNECTING_COUPLERS', '__label__ICE_MAKERS', '__label__CERVICAL_COLLARS', '__label__WATERING_CANS', '__label__DENTAL_CURING_LIGHTS', '__label__GLASS_CUTTERS', '__label__LAWN_MOWER_BLADES', '__label__BEER_KEGS', '__label__BOXING_HEADGEARS', '__label__BEACH_BALLS', '__label__ELECTRIC_KNIVES', '__label__PINBALLS', '__label__OXYGEN_TANKS', '__label__SWIMMING_EARPLUGS', '__label__COIL_BINDING_MACHINES', '__label__DEBRIS_BAGS', '__label__HOT_DOG_MACHINES', '__label__CONCRETE_BLOCKS', '__label__FISHING_ROD_CASES', '__label__CHIPPER_SHREDDERS', '__label__LUGGAGE_TAGS', '__label__SPARKLING_CIDERS', '__label__PAINTBALL_O_RINGS', '__label__ARTIFICIAL_FEATHERS', '__label__ECG_MACHINES', '__label__LUGGAGE_ORGANIZERS', '__label__CASH_REGISTERS', '__label__SCREEN_PRINTING_MACHINES', '__label__HOT_WATER_BOTTLES', '__label__NAIL_POLISH_DRYER_SPRAYS', '__label__WASTE_CONTAINERS', '__label__COGNACS', '__label__TUBE_BENDERS', '__label__ELBOW_SUPPORTS', '__label__CONSTRUCTION_SAND', '__label__OPTICAL_LEVELS', '__label__WOOD_BURNING_MACHINES', '__label__POOL_PAINTS', '__label__ICE_CREAM_MACHINES', '__label__MULTIGAME_MACHINE_CARDS', '__label__HOCKEY_GLOVES', '__label__THEATER_TICKETS', '__label__ELECTRIC_CHAINSAWS', '__label__ISOPROPYL_ALCOHOLS', '__label__PORTABLE_CAMPING_SHOWERS', '__label__BDSM_GAGS', '__label__CHESS_CLOCKS', '__label__RODENT_TRAPS', '__label__DIGITAL_WEATHER_STATIONS', '__label__COTTON_CANDY_MACHINES', '__label__CHALKBOARD_AND_WHITEBOARD_ERASERS', '__label__SCREEN_PRINTING_FRAMES', '__label__POLYCARBONATE_SHEETS', '__label__CHOCOLATE_WATERFALLS', '__label__PAINT_TONERS', '__label__INTERDENTAL_BRUSHES', '__label__BDSM_BLINDFOLDS', '__label__FETAL_DOPPLERS', '__label__SKIN_REPELLENTS', '__label__PIPE_CUTTERS', '__label__CNC_MACHINING_CENTERS', '__label__SWEET_PREMIXES', '__label__CROWBARS', '__label__EROTIC_ANAL_AND_VAGINAL_DOUCHES', '__label__PUNCHING_BAGS_SUPPORTS', '__label__TOOL_ELECTRIC_SHARPENERS', '__label__CHARANGOS', '__label__SCREEN_PRINTING_KITS', '__label__CUPCAKES_MAKERS', '__label__MASSAGE_SOFAS', '__label__PILATES_REFORMERS', '__label__GLASS_BLOCKS', '__label__HOSE_CLAMP_PLIERS', '__label__CAMERA_PHOTOMETERS', '__label__GROOMING_TABLES', '__label__COFFEE_VENDING_MACHINES', '__label__POOL_LADDERS', '__label__SWIMMING_NOSE_CLIPS', '__label__EGGS', '__label__BUBBLE_MACHINES', '__label__COMPRESSED_AIR_DUSTERS', '__label__YOGURT_MAKERS', '__label__PISCOS', '__label__COMPOSTERS', '__label__MOTORCYCLE_SIDE_CASES', '__label__DIVING_KNIVES', '__label__PROXIMITY_KEY_FOBS', '__label__MOTORCYCLE_AND_ALL_TERRAIN_VEHICLE_LOADING_RAMPS', '__label__AGOGOS', '__label__MEAT_HOOKS', '__label__DOG_LIFE_JACKETS', '__label__POLYWIRE_THREADS', '__label__ELECTRIC_CAN_OPENERS', '__label__SNOWBOARD_BINDINGS', '__label__SANDBLASTERS', '__label__MARTIAL_ARTS_FOOT_GUARDS', '__label__CERAMIC_KILNS', '__label__PLASTIC_GRINDING_MACHINES', '__label__URINALS', '__label__ANTI_STATIC_PLIERS', '__label__TILLERS', '__label__TONFAS', '__label__ANGLE_CLAMPS', '__label__FOOD_AND_DRINK_COLORINGS', '__label__INFLATABLE_SLIDES', '__label__STORE_SHOPPING_CARTS', '__label__WAITER_CALLING_SYSTEMS', '__label__FOOT_BATH_MASSAGERS', '__label__3D_PENS', '__label__TILE_AND_CLADDING_ADHESIVE_MIXTURES', '__label__CANOES', '__label__HARD_DRIVE_AND_SSD_ADAPTER_CABLES', '__label__CHECKOUT_COUNTERS', '__label__SAPO_GAMES', '__label__CPR_TRAINING_MANIKINS', '__label__WAKEBOARD_BOOTS', '__label__MARTIAL_ARTS_CHEST_GUARDS', '__label__LENTILS', '__label__PLATE_COMPACTORS', '__label__BOXING_SPEED_BAGS', '__label__MANUAL_TROLLEYS', '__label__INDUSTRIAL_BLENDERS', '__label__SCALE_RULERS', '__label__QUEUE_STANCHIONS', '__label__STADIOMETERS', '__label__FORCE_GAUGES', '__label__HONEY_EXTRACTORS', '__label__CONSTRUCTION_LIME_BAGS', '__label__COLD_FOOD_AND_DRINK_VENDING_MACHINES', '__label__PAINTBALL_SMOKE_GRENADES', '__label__COMMERCIAL_POPCORN_MACHINES', '__label__HAMBURGER_FORMERS']\n"
     ]
    },
    {
     "name": "stderr",
     "output_type": "stream",
     "text": [
      "\n"
     ]
    }
   ],
   "source": [
    "#model = fasttext.load_model(\"model_mercadoLivre.ftz\")\n",
    "model = fasttext.load_model(\"model_mercadoLivre-dadoNaoCategorizado_epoch25.ftz\")\n",
    "print(model.labels)"
   ]
  },
  {
   "cell_type": "code",
   "execution_count": 72,
   "metadata": {},
   "outputs": [
    {
     "name": "stderr",
     "output_type": "stream",
     "text": [
      "/var/anaconda3/lib/python3.7/site-packages/ipykernel_launcher.py:1: ParserWarning: Falling back to the 'python' engine because the 'c' engine does not support regex separators (separators > 1 char and different from '\\s+' are interpreted as regex); you can avoid this warning by specifying engine='python'.\n",
      "  \"\"\"Entry point for launching an IPython kernel.\n"
     ]
    },
    {
     "data": {
      "text/html": [
       "<div>\n",
       "<style scoped>\n",
       "    .dataframe tbody tr th:only-of-type {\n",
       "        vertical-align: middle;\n",
       "    }\n",
       "\n",
       "    .dataframe tbody tr th {\n",
       "        vertical-align: top;\n",
       "    }\n",
       "\n",
       "    .dataframe thead th {\n",
       "        text-align: right;\n",
       "    }\n",
       "</style>\n",
       "<table border=\"1\" class=\"dataframe\">\n",
       "  <thead>\n",
       "    <tr style=\"text-align: right;\">\n",
       "      <th></th>\n",
       "      <th>TITLE</th>\n",
       "      <th>category</th>\n",
       "    </tr>\n",
       "  </thead>\n",
       "  <tbody>\n",
       "    <tr>\n",
       "      <th>0</th>\n",
       "      <td>PROJETO IDADE HIDRAULICA 000 PSI</td>\n",
       "      <td>AIR_COMPRESSORS</td>\n",
       "    </tr>\n",
       "    <tr>\n",
       "      <th>1</th>\n",
       "      <td>TAPETE CAPACHO 120X60 CHURRASQUEIRA + FRETE GR...</td>\n",
       "      <td>CARPETS</td>\n",
       "    </tr>\n",
       "    <tr>\n",
       "      <th>2</th>\n",
       "      <td>CAMISETA RAGLAN CREPÚSCULO JEALOUS BABY K</td>\n",
       "      <td>T_SHIRTS</td>\n",
       "    </tr>\n",
       "    <tr>\n",
       "      <th>3</th>\n",
       "      <td>UNIDADE  DVD GRAVADOR  FEITO PENAS  PECAS</td>\n",
       "      <td>DVD_RECORDERS</td>\n",
       "    </tr>\n",
       "    <tr>\n",
       "      <th>4</th>\n",
       "      <td>FAN LL R320 R420 0HR6C0 4H</td>\n",
       "      <td>DESKTOP_COMPUTER_COOLERS_AND_FANS</td>\n",
       "    </tr>\n",
       "  </tbody>\n",
       "</table>\n",
       "</div>"
      ],
      "text/plain": [
       "                                              TITLE   \\\n",
       "0                  PROJETO IDADE HIDRAULICA 000 PSI    \n",
       "1  TAPETE CAPACHO 120X60 CHURRASQUEIRA + FRETE GR...   \n",
       "2         CAMISETA RAGLAN CREPÚSCULO JEALOUS BABY K    \n",
       "3         UNIDADE  DVD GRAVADOR  FEITO PENAS  PECAS    \n",
       "4                        FAN LL R320 R420 0HR6C0 4H    \n",
       "\n",
       "                            category  \n",
       "0                    AIR_COMPRESSORS  \n",
       "1                            CARPETS  \n",
       "2                           T_SHIRTS  \n",
       "3                      DVD_RECORDERS  \n",
       "4  DESKTOP_COMPUTER_COOLERS_AND_FANS  "
      ]
     },
     "execution_count": 72,
     "metadata": {},
     "output_type": "execute_result"
    }
   ],
   "source": [
    "dataframe = pd.read_csv('dadosLimpos/limpoClassificado_java.csv', sep='__label__' )\n",
    "dataframe.head()"
   ]
  },
  {
   "cell_type": "code",
   "execution_count": 73,
   "metadata": {},
   "outputs": [
    {
     "data": {
      "text/plain": [
       "0                    PROJETO IDADE HIDRAULICA 000 PSI \n",
       "1    TAPETE CAPACHO 120X60 CHURRASQUEIRA + FRETE GR...\n",
       "2           CAMISETA RAGLAN CREPÚSCULO JEALOUS BABY K \n",
       "3           UNIDADE  DVD GRAVADOR  FEITO PENAS  PECAS \n",
       "4                          FAN LL R320 R420 0HR6C0 4H \n",
       "Name: TITLE , dtype: object"
      ]
     },
     "execution_count": 73,
     "metadata": {},
     "output_type": "execute_result"
    }
   ],
   "source": [
    "dataframe[dataframe.columns[0]].head()"
   ]
  },
  {
   "cell_type": "code",
   "execution_count": 74,
   "metadata": {},
   "outputs": [
    {
     "data": {
      "text/html": [
       "<div>\n",
       "<style scoped>\n",
       "    .dataframe tbody tr th:only-of-type {\n",
       "        vertical-align: middle;\n",
       "    }\n",
       "\n",
       "    .dataframe tbody tr th {\n",
       "        vertical-align: top;\n",
       "    }\n",
       "\n",
       "    .dataframe thead th {\n",
       "        text-align: right;\n",
       "    }\n",
       "</style>\n",
       "<table border=\"1\" class=\"dataframe\">\n",
       "  <thead>\n",
       "    <tr style=\"text-align: right;\">\n",
       "      <th></th>\n",
       "      <th>TITLE</th>\n",
       "      <th>category</th>\n",
       "      <th>predicao</th>\n",
       "    </tr>\n",
       "  </thead>\n",
       "  <tbody>\n",
       "    <tr>\n",
       "      <th>0</th>\n",
       "      <td>PROJETO IDADE HIDRAULICA 000 PSI</td>\n",
       "      <td>AIR_COMPRESSORS</td>\n",
       "      <td>SOLAR_PANELS</td>\n",
       "    </tr>\n",
       "    <tr>\n",
       "      <th>1</th>\n",
       "      <td>TAPETE CAPACHO 120X60 CHURRASQUEIRA + FRETE GR...</td>\n",
       "      <td>CARPETS</td>\n",
       "      <td>CARPETS</td>\n",
       "    </tr>\n",
       "    <tr>\n",
       "      <th>2</th>\n",
       "      <td>CAMISETA RAGLAN CREPÚSCULO JEALOUS BABY K</td>\n",
       "      <td>T_SHIRTS</td>\n",
       "      <td>T_SHIRTS</td>\n",
       "    </tr>\n",
       "    <tr>\n",
       "      <th>3</th>\n",
       "      <td>UNIDADE  DVD GRAVADOR  FEITO PENAS  PECAS</td>\n",
       "      <td>DVD_RECORDERS</td>\n",
       "      <td>DVD_RECORDERS</td>\n",
       "    </tr>\n",
       "    <tr>\n",
       "      <th>4</th>\n",
       "      <td>FAN LL R320 R420 0HR6C0 4H</td>\n",
       "      <td>DESKTOP_COMPUTER_COOLERS_AND_FANS</td>\n",
       "      <td>EXTERNAL_LAPTOP_COOLERS</td>\n",
       "    </tr>\n",
       "  </tbody>\n",
       "</table>\n",
       "</div>"
      ],
      "text/plain": [
       "                                              TITLE   \\\n",
       "0                  PROJETO IDADE HIDRAULICA 000 PSI    \n",
       "1  TAPETE CAPACHO 120X60 CHURRASQUEIRA + FRETE GR...   \n",
       "2         CAMISETA RAGLAN CREPÚSCULO JEALOUS BABY K    \n",
       "3         UNIDADE  DVD GRAVADOR  FEITO PENAS  PECAS    \n",
       "4                        FAN LL R320 R420 0HR6C0 4H    \n",
       "\n",
       "                            category                 predicao  \n",
       "0                    AIR_COMPRESSORS             SOLAR_PANELS  \n",
       "1                            CARPETS                  CARPETS  \n",
       "2                           T_SHIRTS                 T_SHIRTS  \n",
       "3                      DVD_RECORDERS            DVD_RECORDERS  \n",
       "4  DESKTOP_COMPUTER_COOLERS_AND_FANS  EXTERNAL_LAPTOP_COOLERS  "
      ]
     },
     "execution_count": 74,
     "metadata": {},
     "output_type": "execute_result"
    }
   ],
   "source": [
    " def process(text):\n",
    "    \n",
    "     text = model.predict(text)   \n",
    "     return text[0][0].replace('__label__','')\n",
    "\n",
    " dataframe['predicao']= dataframe[dataframe.columns[0]].map(lambda x:process(x))\n",
    " dataframe.head()"
   ]
  },
  {
   "cell_type": "code",
   "execution_count": 75,
   "metadata": {},
   "outputs": [
    {
     "name": "stdout",
     "output_type": "stream",
     "text": [
      "quantidade categoria iguais:  1016180\n",
      "quantidade categoria difrente:  168065\n"
     ]
    }
   ],
   "source": [
    "certo = 0\n",
    "errado = 0\n",
    "rows_list = []\n",
    "for index, row in dataframe.iterrows():\n",
    "    if(row[1] ==  row.predicao):\n",
    "        certo+=1\n",
    "    else:\n",
    "        rows_list.append(row) \n",
    "        errado+=1\n",
    "        \n",
    "df_naoIgual = pd.DataFrame(rows_list)                \n",
    "print('quantidade categoria iguais: ', certo)\n",
    "print('quantidade categoria difrente: ',errado)"
   ]
  },
  {
   "cell_type": "code",
   "execution_count": 76,
   "metadata": {},
   "outputs": [
    {
     "name": "stdout",
     "output_type": "stream",
     "text": [
      "A acurracia é de  0.8580825758183483\n"
     ]
    }
   ],
   "source": [
    "# massa revisado - modelo revisado\n",
    "# 0.998206452212169\n",
    "# massa não revizada - modelo revisado\n",
    "#  0.5288719541409748\n",
    "\n",
    "\n",
    "#massa revisa e modelo não revisado lr0,5 epoch 25 -wordNgrams 1\n",
    "# 0.8527179764322417\n",
    "#massa revisa e modelo não revisado lr0,1(default)  epoch 5(default) -wordNgrams 1(default)\n",
    "# 0.8747902672166654\n",
    "#massa revisa e modelo não revisado lr0,1(default)  epoch 25 -wordNgrams 1\n",
    "# 0.8580825758183483 model_mercadoLivre-dadoNaoCategorizado_epoch25.ftz\n",
    "\n",
    "acc= certo/(certo+errado)\n",
    "print('A acurracia é de ', acc)"
   ]
  },
  {
   "cell_type": "code",
   "execution_count": 30,
   "metadata": {},
   "outputs": [],
   "source": [
    "dataframe.to_csv ('resultadoFinal.csv', index = None, header=True,sep=\",\")\n",
    "df_naoIgual.to_csv ('resultadoFinal_naoIgual.csv', index = None, header=True,sep=\",\")\n"
   ]
  },
  {
   "cell_type": "code",
   "execution_count": null,
   "metadata": {},
   "outputs": [],
   "source": []
  }
 ],
 "metadata": {
  "kernelspec": {
   "display_name": "Python (fasttext)",
   "language": "python",
   "name": "fasttext"
  },
  "language_info": {
   "codemirror_mode": {
    "name": "ipython",
    "version": 3
   },
   "file_extension": ".py",
   "mimetype": "text/x-python",
   "name": "python",
   "nbconvert_exporter": "python",
   "pygments_lexer": "ipython3",
   "version": "3.7.3"
  }
 },
 "nbformat": 4,
 "nbformat_minor": 2
}
