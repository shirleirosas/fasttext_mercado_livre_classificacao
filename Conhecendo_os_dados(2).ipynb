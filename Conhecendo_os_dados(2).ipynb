{
  "nbformat": 4,
  "nbformat_minor": 0,
  "metadata": {
    "kernelspec": {
      "display_name": "Python (fasttext)",
      "language": "python",
      "name": "fasttext"
    },
    "language_info": {
      "codemirror_mode": {
        "name": "ipython",
        "version": 3
      },
      "file_extension": ".py",
      "mimetype": "text/x-python",
      "name": "python",
      "nbconvert_exporter": "python",
      "pygments_lexer": "ipython3",
      "version": "3.7.3"
    },
    "colab": {
      "name": "Conhecendo os dados.ipynb",
      "provenance": []
    }
  },
  "cells": [
    {
      "cell_type": "code",
      "metadata": {
        "id": "JxCH_iOClxc0"
      },
      "source": [
        "import pandas as pd \n",
        "import numpy as np\n",
        "from unidecode import unidecode\n",
        "import re\n",
        "from sklearn.linear_model import LinearRegression\n",
        "import matplotlib.pyplot as plt"
      ],
      "execution_count": null,
      "outputs": []
    },
    {
      "cell_type": "code",
      "metadata": {
        "id": "ovFEmucPlxc9",
        "outputId": "aaff17ce-8cfb-48cd-b054-15a46e8823e2"
      },
      "source": [
        "#model = LinearRegression()\n",
        "dataTotal = pd.read_csv(\"dadosBrutos/train.csv\") \n",
        "dataTotal.head()"
      ],
      "execution_count": null,
      "outputs": [
        {
          "output_type": "execute_result",
          "data": {
            "text/html": [
              "<div>\n",
              "<style scoped>\n",
              "    .dataframe tbody tr th:only-of-type {\n",
              "        vertical-align: middle;\n",
              "    }\n",
              "\n",
              "    .dataframe tbody tr th {\n",
              "        vertical-align: top;\n",
              "    }\n",
              "\n",
              "    .dataframe thead th {\n",
              "        text-align: right;\n",
              "    }\n",
              "</style>\n",
              "<table border=\"1\" class=\"dataframe\">\n",
              "  <thead>\n",
              "    <tr style=\"text-align: right;\">\n",
              "      <th></th>\n",
              "      <th>title</th>\n",
              "      <th>label_quality</th>\n",
              "      <th>language</th>\n",
              "      <th>category</th>\n",
              "    </tr>\n",
              "  </thead>\n",
              "  <tbody>\n",
              "    <tr>\n",
              "      <th>0</th>\n",
              "      <td>Hidrolavadora Lavor One 120 Bar 1700w  Bomba A...</td>\n",
              "      <td>unreliable</td>\n",
              "      <td>spanish</td>\n",
              "      <td>ELECTRIC_PRESSURE_WASHERS</td>\n",
              "    </tr>\n",
              "    <tr>\n",
              "      <th>1</th>\n",
              "      <td>Placa De Sonido - Behringer Umc22</td>\n",
              "      <td>unreliable</td>\n",
              "      <td>spanish</td>\n",
              "      <td>SOUND_CARDS</td>\n",
              "    </tr>\n",
              "    <tr>\n",
              "      <th>2</th>\n",
              "      <td>Maquina De Lavar Electrolux 12 Kilos</td>\n",
              "      <td>unreliable</td>\n",
              "      <td>portuguese</td>\n",
              "      <td>WASHING_MACHINES</td>\n",
              "    </tr>\n",
              "    <tr>\n",
              "      <th>3</th>\n",
              "      <td>Par Disco De Freio Diant Vent Gol 8v 08/ Frema...</td>\n",
              "      <td>unreliable</td>\n",
              "      <td>portuguese</td>\n",
              "      <td>VEHICLE_BRAKE_DISCS</td>\n",
              "    </tr>\n",
              "    <tr>\n",
              "      <th>4</th>\n",
              "      <td>Flashes Led Pestañas Luminoso Falso Pestañas P...</td>\n",
              "      <td>unreliable</td>\n",
              "      <td>spanish</td>\n",
              "      <td>FALSE_EYELASHES</td>\n",
              "    </tr>\n",
              "  </tbody>\n",
              "</table>\n",
              "</div>"
            ],
            "text/plain": [
              "                                               title label_quality  \\\n",
              "0  Hidrolavadora Lavor One 120 Bar 1700w  Bomba A...    unreliable   \n",
              "1                  Placa De Sonido - Behringer Umc22    unreliable   \n",
              "2               Maquina De Lavar Electrolux 12 Kilos    unreliable   \n",
              "3  Par Disco De Freio Diant Vent Gol 8v 08/ Frema...    unreliable   \n",
              "4  Flashes Led Pestañas Luminoso Falso Pestañas P...    unreliable   \n",
              "\n",
              "     language                   category  \n",
              "0     spanish  ELECTRIC_PRESSURE_WASHERS  \n",
              "1     spanish                SOUND_CARDS  \n",
              "2  portuguese           WASHING_MACHINES  \n",
              "3  portuguese        VEHICLE_BRAKE_DISCS  \n",
              "4     spanish            FALSE_EYELASHES  "
            ]
          },
          "metadata": {
            "tags": []
          },
          "execution_count": 3
        }
      ]
    },
    {
      "cell_type": "code",
      "metadata": {
        "id": "MFzWMi6WlxdA",
        "outputId": "f9dab8df-6d56-45fc-de0e-147f2b84394d"
      },
      "source": [
        "dataTotal.count()"
      ],
      "execution_count": null,
      "outputs": [
        {
          "output_type": "execute_result",
          "data": {
            "text/plain": [
              "title            20000000\n",
              "label_quality    20000000\n",
              "language         20000000\n",
              "category         20000000\n",
              "dtype: int64"
            ]
          },
          "metadata": {
            "tags": []
          },
          "execution_count": 4
        }
      ]
    },
    {
      "cell_type": "code",
      "metadata": {
        "id": "HwRw2-W_lxdB",
        "outputId": "e559df79-7fe2-4caf-d663-720f2836d83c"
      },
      "source": [
        "dataTotal[dataTotal.language=='portuguese'].count()"
      ],
      "execution_count": null,
      "outputs": [
        {
          "output_type": "execute_result",
          "data": {
            "text/plain": [
              "title            10000000\n",
              "label_quality    10000000\n",
              "language         10000000\n",
              "category         10000000\n",
              "dtype: int64"
            ]
          },
          "metadata": {
            "tags": []
          },
          "execution_count": 5
        }
      ]
    },
    {
      "cell_type": "code",
      "metadata": {
        "id": "0JnSiiPolxdC",
        "outputId": "597794d9-9358-4f6e-ff35-e221b7e5f2b9"
      },
      "source": [
        "dataTotal[dataTotal.language=='spanish'].count()"
      ],
      "execution_count": null,
      "outputs": [
        {
          "output_type": "execute_result",
          "data": {
            "text/plain": [
              "title            10000000\n",
              "label_quality    10000000\n",
              "language         10000000\n",
              "category         10000000\n",
              "dtype: int64"
            ]
          },
          "metadata": {
            "tags": []
          },
          "execution_count": 6
        }
      ]
    },
    {
      "cell_type": "code",
      "metadata": {
        "id": "NmhiDmO_lxdD",
        "outputId": "a89904e2-da74-4ce6-d945-fdfeb4177a0c"
      },
      "source": [
        "df_naoVisto= dataTotal[dataTotal.label_quality=='unreliable']\n",
        "df_naoVisto.count()"
      ],
      "execution_count": null,
      "outputs": [
        {
          "output_type": "execute_result",
          "data": {
            "text/plain": [
              "title            18815755\n",
              "label_quality    18815755\n",
              "language         18815755\n",
              "category         18815755\n",
              "dtype: int64"
            ]
          },
          "metadata": {
            "tags": []
          },
          "execution_count": 7
        }
      ]
    },
    {
      "cell_type": "code",
      "metadata": {
        "id": "v9OYdt6blxdF",
        "outputId": "da2e7fbb-2bdc-4db0-dbf9-3cddb2b90aef"
      },
      "source": [
        "df_count_naoVisto =df_naoVisto[['title','category']].groupby(['category']).count().sort_values(by=['title'], ascending=False)\n",
        "df_count_naoVisto[:20].plot(kind='line')"
      ],
      "execution_count": null,
      "outputs": [
        {
          "output_type": "execute_result",
          "data": {
            "text/plain": [
              "<matplotlib.axes._subplots.AxesSubplot at 0x7f68b9ee1a90>"
            ]
          },
          "metadata": {
            "tags": []
          },
          "execution_count": 78
        },
        {
          "output_type": "display_data",
          "data": {
            "image/png": "[encoded data removed]",
            "text/plain": [
              "<Figure size 432x288 with 1 Axes>"
            ]
          },
          "metadata": {
            "tags": [],
            "needs_background": "light"
          }
        }
      ]
    },
    {
      "cell_type": "code",
      "metadata": {
        "id": "82pH95p7lxdF",
        "outputId": "8a63dcb5-e40e-4761-c7b6-c742015e3f8a"
      },
      "source": [
        "df_count_naoVisto.head(5)"
      ],
      "execution_count": null,
      "outputs": [
        {
          "output_type": "execute_result",
          "data": {
            "text/html": [
              "<div>\n",
              "<style scoped>\n",
              "    .dataframe tbody tr th:only-of-type {\n",
              "        vertical-align: middle;\n",
              "    }\n",
              "\n",
              "    .dataframe tbody tr th {\n",
              "        vertical-align: top;\n",
              "    }\n",
              "\n",
              "    .dataframe thead th {\n",
              "        text-align: right;\n",
              "    }\n",
              "</style>\n",
              "<table border=\"1\" class=\"dataframe\">\n",
              "  <thead>\n",
              "    <tr style=\"text-align: right;\">\n",
              "      <th></th>\n",
              "      <th>title</th>\n",
              "    </tr>\n",
              "    <tr>\n",
              "      <th>category</th>\n",
              "      <th></th>\n",
              "    </tr>\n",
              "  </thead>\n",
              "  <tbody>\n",
              "    <tr>\n",
              "      <th>WINES</th>\n",
              "      <td>30488</td>\n",
              "    </tr>\n",
              "    <tr>\n",
              "      <th>COFFEE_MAKERS</th>\n",
              "      <td>29637</td>\n",
              "    </tr>\n",
              "    <tr>\n",
              "      <th>SWEATERS_AND_CARDIGANS</th>\n",
              "      <td>29176</td>\n",
              "    </tr>\n",
              "    <tr>\n",
              "      <th>CHOCOLATES</th>\n",
              "      <td>29034</td>\n",
              "    </tr>\n",
              "    <tr>\n",
              "      <th>RACQUETS</th>\n",
              "      <td>28948</td>\n",
              "    </tr>\n",
              "  </tbody>\n",
              "</table>\n",
              "</div>"
            ],
            "text/plain": [
              "                        title\n",
              "category                     \n",
              "WINES                   30488\n",
              "COFFEE_MAKERS           29637\n",
              "SWEATERS_AND_CARDIGANS  29176\n",
              "CHOCOLATES              29034\n",
              "RACQUETS                28948"
            ]
          },
          "metadata": {
            "tags": []
          },
          "execution_count": 79
        }
      ]
    },
    {
      "cell_type": "code",
      "metadata": {
        "id": "qrTn8ZTSlxdF",
        "outputId": "a2dbb058-679d-4013-f5fc-f378c9310726"
      },
      "source": [
        "df_visto = dataTotal[dataTotal.label_quality=='reliable']\n",
        "df_visto.count()"
      ],
      "execution_count": null,
      "outputs": [
        {
          "output_type": "execute_result",
          "data": {
            "text/plain": [
              "title            1184245\n",
              "label_quality    1184245\n",
              "language         1184245\n",
              "category         1184245\n",
              "dtype: int64"
            ]
          },
          "metadata": {
            "tags": []
          },
          "execution_count": 62
        }
      ]
    },
    {
      "cell_type": "code",
      "metadata": {
        "id": "ZJWI9tamlxdH",
        "outputId": "ec8c0616-66f4-480d-8cf7-5be683db40c5"
      },
      "source": [
        " #df_visto[['title','category']].groupby(['category']).count()[:20].plot(kind='barh')\n",
        "df_count_visto = df_visto[['title','category']].groupby(['category']).count().sort_values(by=['title'], ascending=False)\n",
        "df_count_visto[:20].plot(kind='line')\n",
        "#    df_visto_count_titulo_categoria = df_visto_count_titulo_categoria.show()\n",
        "#df_visto_count_titulo_categoria.head(2)\n",
        "#df_visto_count_titulo_categoria.rename(columns={1: 'a'})\n",
        "#list(df_visto_count_titulo_categoria.columns) \n"
      ],
      "execution_count": null,
      "outputs": [
        {
          "output_type": "execute_result",
          "data": {
            "text/plain": [
              "<matplotlib.axes._subplots.AxesSubplot at 0x7f68b9f34a58>"
            ]
          },
          "metadata": {
            "tags": []
          },
          "execution_count": 76
        },
        {
          "output_type": "display_data",
          "data": {
            "image/png": "[encoded data removed]",
            "text/plain": [
              "<Figure size 432x288 with 1 Axes>"
            ]
          },
          "metadata": {
            "tags": [],
            "needs_background": "light"
          }
        }
      ]
    },
    {
      "cell_type": "code",
      "metadata": {
        "id": "ueDwmWDElxdI",
        "outputId": "19a68063-b7c0-44c9-a9fc-d8bf29cd4b8b"
      },
      "source": [
        "df_count_visto.head(5)"
      ],
      "execution_count": null,
      "outputs": [
        {
          "output_type": "execute_result",
          "data": {
            "text/html": [
              "<div>\n",
              "<style scoped>\n",
              "    .dataframe tbody tr th:only-of-type {\n",
              "        vertical-align: middle;\n",
              "    }\n",
              "\n",
              "    .dataframe tbody tr th {\n",
              "        vertical-align: top;\n",
              "    }\n",
              "\n",
              "    .dataframe thead th {\n",
              "        text-align: right;\n",
              "    }\n",
              "</style>\n",
              "<table border=\"1\" class=\"dataframe\">\n",
              "  <thead>\n",
              "    <tr style=\"text-align: right;\">\n",
              "      <th></th>\n",
              "      <th>title</th>\n",
              "    </tr>\n",
              "    <tr>\n",
              "      <th>category</th>\n",
              "      <th></th>\n",
              "    </tr>\n",
              "  </thead>\n",
              "  <tbody>\n",
              "    <tr>\n",
              "      <th>FOOTBALL_SHIRTS</th>\n",
              "      <td>8959</td>\n",
              "    </tr>\n",
              "    <tr>\n",
              "      <th>WRISTWATCHES</th>\n",
              "      <td>8924</td>\n",
              "    </tr>\n",
              "    <tr>\n",
              "      <th>BOOKS</th>\n",
              "      <td>8744</td>\n",
              "    </tr>\n",
              "    <tr>\n",
              "      <th>ACTION_FIGURES</th>\n",
              "      <td>8512</td>\n",
              "    </tr>\n",
              "    <tr>\n",
              "      <th>JACKETS_AND_COATS</th>\n",
              "      <td>8506</td>\n",
              "    </tr>\n",
              "  </tbody>\n",
              "</table>\n",
              "</div>"
            ],
            "text/plain": [
              "                   title\n",
              "category                \n",
              "FOOTBALL_SHIRTS     8959\n",
              "WRISTWATCHES        8924\n",
              "BOOKS               8744\n",
              "ACTION_FIGURES      8512\n",
              "JACKETS_AND_COATS   8506"
            ]
          },
          "metadata": {
            "tags": []
          },
          "execution_count": 77
        }
      ]
    },
    {
      "cell_type": "code",
      "metadata": {
        "id": "W0Czw0S4lxdJ",
        "outputId": "294734bb-ed67-4f9c-b90d-8cbca37224f1"
      },
      "source": [
        "result = pd.concat([df_count_naoVisto,df_count_visto], axis=1, join='inner')\n",
        "result.columns = ['Nao visto', 'Visto']\n",
        "result['PC nao visto']= (result['Nao visto']/df_naoVisto['category'].count())* 100\n",
        "result['PC visto']= (result['Visto']/df_visto['category'].count())* 100\n",
        "\n",
        "result.head(15)"
      ],
      "execution_count": null,
      "outputs": [
        {
          "output_type": "execute_result",
          "data": {
            "text/html": [
              "<div>\n",
              "<style scoped>\n",
              "    .dataframe tbody tr th:only-of-type {\n",
              "        vertical-align: middle;\n",
              "    }\n",
              "\n",
              "    .dataframe tbody tr th {\n",
              "        vertical-align: top;\n",
              "    }\n",
              "\n",
              "    .dataframe thead th {\n",
              "        text-align: right;\n",
              "    }\n",
              "</style>\n",
              "<table border=\"1\" class=\"dataframe\">\n",
              "  <thead>\n",
              "    <tr style=\"text-align: right;\">\n",
              "      <th></th>\n",
              "      <th>Nao visto</th>\n",
              "      <th>Visto</th>\n",
              "      <th>PC nao visto</th>\n",
              "      <th>PC visto</th>\n",
              "    </tr>\n",
              "    <tr>\n",
              "      <th>category</th>\n",
              "      <th></th>\n",
              "      <th></th>\n",
              "      <th></th>\n",
              "      <th></th>\n",
              "    </tr>\n",
              "  </thead>\n",
              "  <tbody>\n",
              "    <tr>\n",
              "      <th>WINES</th>\n",
              "      <td>30488</td>\n",
              "      <td>911</td>\n",
              "      <td>0.162034</td>\n",
              "      <td>0.076927</td>\n",
              "    </tr>\n",
              "    <tr>\n",
              "      <th>COFFEE_MAKERS</th>\n",
              "      <td>29637</td>\n",
              "      <td>5467</td>\n",
              "      <td>0.157512</td>\n",
              "      <td>0.461644</td>\n",
              "    </tr>\n",
              "    <tr>\n",
              "      <th>SWEATERS_AND_CARDIGANS</th>\n",
              "      <td>29176</td>\n",
              "      <td>432</td>\n",
              "      <td>0.155062</td>\n",
              "      <td>0.036479</td>\n",
              "    </tr>\n",
              "    <tr>\n",
              "      <th>CHOCOLATES</th>\n",
              "      <td>29034</td>\n",
              "      <td>4</td>\n",
              "      <td>0.154307</td>\n",
              "      <td>0.000338</td>\n",
              "    </tr>\n",
              "    <tr>\n",
              "      <th>RACQUETS</th>\n",
              "      <td>28948</td>\n",
              "      <td>32</td>\n",
              "      <td>0.153850</td>\n",
              "      <td>0.002702</td>\n",
              "    </tr>\n",
              "    <tr>\n",
              "      <th>CAR_CARBURETORS</th>\n",
              "      <td>28659</td>\n",
              "      <td>2</td>\n",
              "      <td>0.152314</td>\n",
              "      <td>0.000169</td>\n",
              "    </tr>\n",
              "    <tr>\n",
              "      <th>HAIR_STRAIGHTENERS</th>\n",
              "      <td>28620</td>\n",
              "      <td>104</td>\n",
              "      <td>0.152107</td>\n",
              "      <td>0.008782</td>\n",
              "    </tr>\n",
              "    <tr>\n",
              "      <th>BABY_CAR_SEATS</th>\n",
              "      <td>28519</td>\n",
              "      <td>5644</td>\n",
              "      <td>0.151570</td>\n",
              "      <td>0.476591</td>\n",
              "    </tr>\n",
              "    <tr>\n",
              "      <th>KITCHEN_SINKS</th>\n",
              "      <td>28378</td>\n",
              "      <td>2257</td>\n",
              "      <td>0.150820</td>\n",
              "      <td>0.190586</td>\n",
              "    </tr>\n",
              "    <tr>\n",
              "      <th>BOOKCASES</th>\n",
              "      <td>28333</td>\n",
              "      <td>1039</td>\n",
              "      <td>0.150581</td>\n",
              "      <td>0.087735</td>\n",
              "    </tr>\n",
              "    <tr>\n",
              "      <th>MOTORCYCLE_JACKETS</th>\n",
              "      <td>28332</td>\n",
              "      <td>4283</td>\n",
              "      <td>0.150576</td>\n",
              "      <td>0.361665</td>\n",
              "    </tr>\n",
              "    <tr>\n",
              "      <th>SHORTS</th>\n",
              "      <td>28205</td>\n",
              "      <td>3480</td>\n",
              "      <td>0.149901</td>\n",
              "      <td>0.293858</td>\n",
              "    </tr>\n",
              "    <tr>\n",
              "      <th>MUSICAL_KEYBOARDS</th>\n",
              "      <td>28062</td>\n",
              "      <td>5160</td>\n",
              "      <td>0.149141</td>\n",
              "      <td>0.435721</td>\n",
              "    </tr>\n",
              "    <tr>\n",
              "      <th>VACUUM_CLEANERS</th>\n",
              "      <td>28045</td>\n",
              "      <td>106</td>\n",
              "      <td>0.149051</td>\n",
              "      <td>0.008951</td>\n",
              "    </tr>\n",
              "    <tr>\n",
              "      <th>PANTS</th>\n",
              "      <td>27953</td>\n",
              "      <td>8020</td>\n",
              "      <td>0.148562</td>\n",
              "      <td>0.677225</td>\n",
              "    </tr>\n",
              "  </tbody>\n",
              "</table>\n",
              "</div>"
            ],
            "text/plain": [
              "                        Nao visto  Visto  PC nao visto  PC visto\n",
              "category                                                        \n",
              "WINES                       30488    911      0.162034  0.076927\n",
              "COFFEE_MAKERS               29637   5467      0.157512  0.461644\n",
              "SWEATERS_AND_CARDIGANS      29176    432      0.155062  0.036479\n",
              "CHOCOLATES                  29034      4      0.154307  0.000338\n",
              "RACQUETS                    28948     32      0.153850  0.002702\n",
              "CAR_CARBURETORS             28659      2      0.152314  0.000169\n",
              "HAIR_STRAIGHTENERS          28620    104      0.152107  0.008782\n",
              "BABY_CAR_SEATS              28519   5644      0.151570  0.476591\n",
              "KITCHEN_SINKS               28378   2257      0.150820  0.190586\n",
              "BOOKCASES                   28333   1039      0.150581  0.087735\n",
              "MOTORCYCLE_JACKETS          28332   4283      0.150576  0.361665\n",
              "SHORTS                      28205   3480      0.149901  0.293858\n",
              "MUSICAL_KEYBOARDS           28062   5160      0.149141  0.435721\n",
              "VACUUM_CLEANERS             28045    106      0.149051  0.008951\n",
              "PANTS                       27953   8020      0.148562  0.677225"
            ]
          },
          "metadata": {
            "tags": []
          },
          "execution_count": 108
        }
      ]
    },
    {
      "cell_type": "code",
      "metadata": {
        "id": "P0UJGA4GlxdK",
        "outputId": "860542d4-a0b1-434c-ee53-c3bca3a4f7ef"
      },
      "source": [
        "result[:30].plot(y='Nao visto', stacked=True, kind=\"line\")\n",
        "ax = result['Visto'][:30].plot(secondary_y=True, color='k', marker='o')\n",
        "ax.set_ylabel('Visto')"
      ],
      "execution_count": null,
      "outputs": [
        {
          "output_type": "execute_result",
          "data": {
            "text/plain": [
              "Text(0, 0.5, 'Visto')"
            ]
          },
          "metadata": {
            "tags": []
          },
          "execution_count": 128
        },
        {
          "output_type": "display_data",
          "data": {
            "image/png": "[encoded data removed]",
            "text/plain": [
              "<Figure size 432x288 with 2 Axes>"
            ]
          },
          "metadata": {
            "tags": [],
            "needs_background": "light"
          }
        }
      ]
    },
    {
      "cell_type": "code",
      "metadata": {
        "id": "Dtm_LqBblxdK"
      },
      "source": [
        "df_qtd_categoria_naoVisto = df_naoVisto.groupby('label_quality').nunique()"
      ],
      "execution_count": null,
      "outputs": []
    },
    {
      "cell_type": "code",
      "metadata": {
        "id": "w6nzE8LelxdL",
        "outputId": "68767f2f-0736-4265-ea96-6f669460fa1d"
      },
      "source": [
        "df_qtd_categoria_naoVisto.head()"
      ],
      "execution_count": null,
      "outputs": [
        {
          "output_type": "execute_result",
          "data": {
            "text/html": [
              "<div>\n",
              "<style scoped>\n",
              "    .dataframe tbody tr th:only-of-type {\n",
              "        vertical-align: middle;\n",
              "    }\n",
              "\n",
              "    .dataframe tbody tr th {\n",
              "        vertical-align: top;\n",
              "    }\n",
              "\n",
              "    .dataframe thead th {\n",
              "        text-align: right;\n",
              "    }\n",
              "</style>\n",
              "<table border=\"1\" class=\"dataframe\">\n",
              "  <thead>\n",
              "    <tr style=\"text-align: right;\">\n",
              "      <th></th>\n",
              "      <th>title</th>\n",
              "      <th>label_quality</th>\n",
              "      <th>language</th>\n",
              "      <th>category</th>\n",
              "    </tr>\n",
              "    <tr>\n",
              "      <th>label_quality</th>\n",
              "      <th></th>\n",
              "      <th></th>\n",
              "      <th></th>\n",
              "      <th></th>\n",
              "    </tr>\n",
              "  </thead>\n",
              "  <tbody>\n",
              "    <tr>\n",
              "      <th>unreliable</th>\n",
              "      <td>18805105</td>\n",
              "      <td>1</td>\n",
              "      <td>2</td>\n",
              "      <td>1588</td>\n",
              "    </tr>\n",
              "  </tbody>\n",
              "</table>\n",
              "</div>"
            ],
            "text/plain": [
              "                  title  label_quality  language  category\n",
              "label_quality                                             \n",
              "unreliable     18805105              1         2      1588"
            ]
          },
          "metadata": {
            "tags": []
          },
          "execution_count": 10
        }
      ]
    },
    {
      "cell_type": "code",
      "metadata": {
        "id": "RU2iAwIFlxdM"
      },
      "source": [
        "df_qtd_categoria_visto = df_visto.groupby('label_quality').nunique()"
      ],
      "execution_count": null,
      "outputs": []
    },
    {
      "cell_type": "code",
      "metadata": {
        "id": "HgXfZ9MOlxdM",
        "outputId": "4270a205-82f7-4e6c-de46-ffc124a3291d"
      },
      "source": [
        "df_qtd_categoria_visto.head()"
      ],
      "execution_count": null,
      "outputs": [
        {
          "output_type": "execute_result",
          "data": {
            "text/html": [
              "<div>\n",
              "<style scoped>\n",
              "    .dataframe tbody tr th:only-of-type {\n",
              "        vertical-align: middle;\n",
              "    }\n",
              "\n",
              "    .dataframe tbody tr th {\n",
              "        vertical-align: top;\n",
              "    }\n",
              "\n",
              "    .dataframe thead th {\n",
              "        text-align: right;\n",
              "    }\n",
              "</style>\n",
              "<table border=\"1\" class=\"dataframe\">\n",
              "  <thead>\n",
              "    <tr style=\"text-align: right;\">\n",
              "      <th></th>\n",
              "      <th>title</th>\n",
              "      <th>label_quality</th>\n",
              "      <th>language</th>\n",
              "      <th>category</th>\n",
              "    </tr>\n",
              "    <tr>\n",
              "      <th>label_quality</th>\n",
              "      <th></th>\n",
              "      <th></th>\n",
              "      <th></th>\n",
              "      <th></th>\n",
              "    </tr>\n",
              "  </thead>\n",
              "  <tbody>\n",
              "    <tr>\n",
              "      <th>reliable</th>\n",
              "      <td>1184176</td>\n",
              "      <td>1</td>\n",
              "      <td>2</td>\n",
              "      <td>1395</td>\n",
              "    </tr>\n",
              "  </tbody>\n",
              "</table>\n",
              "</div>"
            ],
            "text/plain": [
              "                 title  label_quality  language  category\n",
              "label_quality                                            \n",
              "reliable       1184176              1         2      1395"
            ]
          },
          "metadata": {
            "tags": []
          },
          "execution_count": 12
        }
      ]
    },
    {
      "cell_type": "code",
      "metadata": {
        "id": "XCE0MGMolxdM"
      },
      "source": [
        "#todos os titulos que contem as palavras\n",
        "dataTotal['title'] = dataTotal['title'].str.upper() \n",
        "DataComFrete = dataTotal[(dataTotal.title.str.contains(\"FRETE GRATIS\"))]\n",
        "DataComFreteAcento=dataTotal[(dataTotal.title.str.contains(\"FRETE GRÁTIS\"))]\n",
        "DataComFreteEnvio = dataTotal[(dataTotal.title.str.contains(\"ENVIO GRATIS\"))]\n",
        "DataComBuenEstado= dataTotal[(dataTotal.title.str.contains(\"BUEN ESTADO\"))]\n",
        "DataComVariedaEnvio= dataTotal[(dataTotal.title.str.contains(\"VARIEDAD ENVIO\"))]"
      ],
      "execution_count": null,
      "outputs": []
    },
    {
      "cell_type": "code",
      "metadata": {
        "id": "yoWa2qfylxdM",
        "outputId": "44b3b5e9-7761-406b-abbc-0d2d54f5e5cd"
      },
      "source": [
        "#quantidade de categoria no total\n",
        "arrayCategoriaUnica =pd.unique( dataTotal.category)\n",
        "arrayCategoriaUnica.size\n"
      ],
      "execution_count": null,
      "outputs": [
        {
          "output_type": "execute_result",
          "data": {
            "text/plain": [
              "1588"
            ]
          },
          "metadata": {
            "tags": []
          },
          "execution_count": 14
        }
      ]
    },
    {
      "cell_type": "code",
      "metadata": {
        "id": "i_d8G9ImlxdN"
      },
      "source": [
        "#quantidade de titulos por categoria\n",
        "def quantidaCategoria(dataFrameComCategoria):\n",
        "    df = pd.DataFrame(columns=['QTD', 'Categoria'])\n",
        "    for x in (arrayCategoriaUnica):  \n",
        "       DataCountCategoria = dataFrameComCategoria[dataFrameComCategoria.category.str.contains(x)]\n",
        "       qtdCategoria = DataCountCategoria.category.count()\n",
        "       df = df.append({'QTD':qtdCategoria ,'Categoria' :x} , ignore_index=True) \n",
        "    df=df.sort_values(by=['QTD'])\n",
        "    return df\n",
        "\n",
        "\n",
        "DataQTDCategoriaComFrete = quantidaCategoria(DataComFrete)\n",
        "DataQTDCategoriaDataComFreteAcento=quantidaCategoria(DataComFreteAcento)\n",
        "DataQTDCategoriaDataComFreteEnvio=quantidaCategoria(DataComFreteEnvio)\n",
        "DataQTDCategoriaDataComBuenEstado=quantidaCategoria(DataComBuenEstado)\n",
        "DataQTDCategoriaDataComVariedaEnvio=quantidaCategoria(DataComVariedaEnvio)\n"
      ],
      "execution_count": null,
      "outputs": []
    },
    {
      "cell_type": "code",
      "metadata": {
        "id": "RyfQBvlPlxdN"
      },
      "source": [
        "#quantidade que a palavra x aconteceu \n",
        "tamanhoComFrete= (DataQTDCategoriaComFrete[DataQTDCategoriaComFrete.QTD!=0]).sum()\n",
        "tamanhoComFreteAcento=(DataQTDCategoriaDataComFreteAcento[DataQTDCategoriaDataComFreteAcento.QTD!=0]).sum()\n",
        "tamanhoComFreteEnvio=(DataQTDCategoriaDataComFreteEnvio[DataQTDCategoriaDataComFreteEnvio.QTD!=0]).sum()\n",
        "tamanhoComBuenEstado=(DataQTDCategoriaDataComBuenEstado[DataQTDCategoriaDataComBuenEstado.QTD!=0]).sum()\n",
        "tamanhoComVariedaEnvio= (DataQTDCategoriaDataComVariedaEnvio[DataQTDCategoriaDataComVariedaEnvio.QTD!=0]).sum()"
      ],
      "execution_count": null,
      "outputs": []
    },
    {
      "cell_type": "code",
      "metadata": {
        "id": "TFrWMNIZlxdO",
        "outputId": "5032525d-22ee-40a1-fcdd-bbc035690f0f"
      },
      "source": [
        "print(\"Total score for %s %s  %s  %s  %s\" % (tamanhoComFrete.QTD, tamanhoComFreteAcento.QTD,\n",
        "                                    tamanhoComFreteEnvio.QTD,tamanhoComBuenEstado.QTD,\n",
        "                                    tamanhoComVariedaEnvio.QTD))"
      ],
      "execution_count": null,
      "outputs": [
        {
          "output_type": "stream",
          "text": [
            "Total score for 46506 106974  49368  21574  0.0\n"
          ],
          "name": "stdout"
        }
      ]
    },
    {
      "cell_type": "code",
      "metadata": {
        "id": "BTNG_QnhlxdO",
        "outputId": "ac3b4c7f-d966-43ef-baf1-6e6688cec903"
      },
      "source": [
        "ax = DataQTDCategoriaDataComBuenEstado.plot.bar(x='Categoria', y='QTD', rot=0)"
      ],
      "execution_count": null,
      "outputs": [
        {
          "output_type": "display_data",
          "data": {
            "image/png": "[encoded data removed]",
            "text/plain": [
              "<Figure size 432x288 with 1 Axes>"
            ]
          },
          "metadata": {
            "tags": [],
            "needs_background": "light"
          }
        }
      ]
    },
    {
      "cell_type": "code",
      "metadata": {
        "id": "rKStZPKklxdO",
        "outputId": "8e5c7fc2-4f49-4a0c-ceff-22f37e92dd87"
      },
      "source": [
        "#DataQTDCategoriaComFrete.sort_values(by=['QTD'], ascending=False ).head(20)\n",
        "DataQTDCategoriaDataComFreteAcento.sort_values(by=['QTD'], ascending=False ).head(20)\n",
        "#DataQTDCategoriaDataComFreteEnvio.sort_values(by=['QTD'], ascending=False ).head(20)\n",
        "#DataQTDCategoriaDataComBuenEstado.sort_values(by=['QTD'], ascending=False ).head(20)\n",
        "#DataQTDCategoriaDataComVariedaEnvio.sort_values(by=['QTD'], ascending=False ).head(20)\n"
      ],
      "execution_count": null,
      "outputs": [
        {
          "output_type": "execute_result",
          "data": {
            "text/html": [
              "<div>\n",
              "<style scoped>\n",
              "    .dataframe tbody tr th:only-of-type {\n",
              "        vertical-align: middle;\n",
              "    }\n",
              "\n",
              "    .dataframe tbody tr th {\n",
              "        vertical-align: top;\n",
              "    }\n",
              "\n",
              "    .dataframe thead th {\n",
              "        text-align: right;\n",
              "    }\n",
              "</style>\n",
              "<table border=\"1\" class=\"dataframe\">\n",
              "  <thead>\n",
              "    <tr style=\"text-align: right;\">\n",
              "      <th></th>\n",
              "      <th>QTD</th>\n",
              "      <th>Categoria</th>\n",
              "    </tr>\n",
              "  </thead>\n",
              "  <tbody>\n",
              "    <tr>\n",
              "      <th>865</th>\n",
              "      <td>1740</td>\n",
              "      <td>BELTS</td>\n",
              "    </tr>\n",
              "    <tr>\n",
              "      <th>1366</th>\n",
              "      <td>1525</td>\n",
              "      <td>TREADMILL_RUNNING_BELTS</td>\n",
              "    </tr>\n",
              "    <tr>\n",
              "      <th>568</th>\n",
              "      <td>1028</td>\n",
              "      <td>SUITS</td>\n",
              "    </tr>\n",
              "    <tr>\n",
              "      <th>307</th>\n",
              "      <td>914</td>\n",
              "      <td>VIDEO_GAMES</td>\n",
              "    </tr>\n",
              "    <tr>\n",
              "      <th>1382</th>\n",
              "      <td>854</td>\n",
              "      <td>LAPTOP_SKINS</td>\n",
              "    </tr>\n",
              "    <tr>\n",
              "      <th>624</th>\n",
              "      <td>839</td>\n",
              "      <td>SHIRTS</td>\n",
              "    </tr>\n",
              "    <tr>\n",
              "      <th>773</th>\n",
              "      <td>778</td>\n",
              "      <td>EROTIC_CREAMS</td>\n",
              "    </tr>\n",
              "    <tr>\n",
              "      <th>529</th>\n",
              "      <td>769</td>\n",
              "      <td>MALE_MASTURBATORS</td>\n",
              "    </tr>\n",
              "    <tr>\n",
              "      <th>746</th>\n",
              "      <td>760</td>\n",
              "      <td>GAME_CONSOLE_AND_VIDEO_GAME_CONTROLLER_SKINS</td>\n",
              "    </tr>\n",
              "    <tr>\n",
              "      <th>676</th>\n",
              "      <td>750</td>\n",
              "      <td>RUM</td>\n",
              "    </tr>\n",
              "    <tr>\n",
              "      <th>35</th>\n",
              "      <td>673</td>\n",
              "      <td>CARD_PAYMENT_TERMINALS</td>\n",
              "    </tr>\n",
              "    <tr>\n",
              "      <th>945</th>\n",
              "      <td>666</td>\n",
              "      <td>PLANTS</td>\n",
              "    </tr>\n",
              "    <tr>\n",
              "      <th>241</th>\n",
              "      <td>631</td>\n",
              "      <td>VESTS</td>\n",
              "    </tr>\n",
              "    <tr>\n",
              "      <th>301</th>\n",
              "      <td>570</td>\n",
              "      <td>HOOKAHS</td>\n",
              "    </tr>\n",
              "    <tr>\n",
              "      <th>103</th>\n",
              "      <td>568</td>\n",
              "      <td>CONTINUOUS_LIGHTING</td>\n",
              "    </tr>\n",
              "    <tr>\n",
              "      <th>137</th>\n",
              "      <td>562</td>\n",
              "      <td>AIR_FRESHENERS</td>\n",
              "    </tr>\n",
              "    <tr>\n",
              "      <th>1136</th>\n",
              "      <td>522</td>\n",
              "      <td>FOOTBALL_SHIRTS</td>\n",
              "    </tr>\n",
              "    <tr>\n",
              "      <th>111</th>\n",
              "      <td>516</td>\n",
              "      <td>CRIB_BEDDING_SETS</td>\n",
              "    </tr>\n",
              "    <tr>\n",
              "      <th>587</th>\n",
              "      <td>514</td>\n",
              "      <td>CAR_AIR_FRESHENERS</td>\n",
              "    </tr>\n",
              "    <tr>\n",
              "      <th>1031</th>\n",
              "      <td>487</td>\n",
              "      <td>HAMMOCKS</td>\n",
              "    </tr>\n",
              "  </tbody>\n",
              "</table>\n",
              "</div>"
            ],
            "text/plain": [
              "       QTD                                     Categoria\n",
              "865   1740                                         BELTS\n",
              "1366  1525                       TREADMILL_RUNNING_BELTS\n",
              "568   1028                                         SUITS\n",
              "307    914                                   VIDEO_GAMES\n",
              "1382   854                                  LAPTOP_SKINS\n",
              "624    839                                        SHIRTS\n",
              "773    778                                 EROTIC_CREAMS\n",
              "529    769                             MALE_MASTURBATORS\n",
              "746    760  GAME_CONSOLE_AND_VIDEO_GAME_CONTROLLER_SKINS\n",
              "676    750                                           RUM\n",
              "35     673                        CARD_PAYMENT_TERMINALS\n",
              "945    666                                        PLANTS\n",
              "241    631                                         VESTS\n",
              "301    570                                       HOOKAHS\n",
              "103    568                           CONTINUOUS_LIGHTING\n",
              "137    562                                AIR_FRESHENERS\n",
              "1136   522                               FOOTBALL_SHIRTS\n",
              "111    516                             CRIB_BEDDING_SETS\n",
              "587    514                            CAR_AIR_FRESHENERS\n",
              "1031   487                                      HAMMOCKS"
            ]
          },
          "metadata": {
            "tags": []
          },
          "execution_count": 19
        }
      ]
    },
    {
      "cell_type": "code",
      "metadata": {
        "id": "ncwTvi5olxdP",
        "outputId": "18cf76b1-1aa9-4ce2-c168-77ac9860a1d3"
      },
      "source": [
        "DataQTDCategoriaComFrete \n",
        "DataQTDCategoriaDataComFreteAcento\n",
        "DataQTDCategoriaDataComFreteEnvio\n",
        "DataQTDCategoriaDataComBuenEstado\n",
        "DataQTDCategoriaDataComVariedaEnvio\n"
      ],
      "execution_count": null,
      "outputs": [
        {
          "output_type": "execute_result",
          "data": {
            "text/html": [
              "<div>\n",
              "<style scoped>\n",
              "    .dataframe tbody tr th:only-of-type {\n",
              "        vertical-align: middle;\n",
              "    }\n",
              "\n",
              "    .dataframe tbody tr th {\n",
              "        vertical-align: top;\n",
              "    }\n",
              "\n",
              "    .dataframe thead th {\n",
              "        text-align: right;\n",
              "    }\n",
              "</style>\n",
              "<table border=\"1\" class=\"dataframe\">\n",
              "  <thead>\n",
              "    <tr style=\"text-align: right;\">\n",
              "      <th></th>\n",
              "      <th>QTD</th>\n",
              "      <th>Categoria</th>\n",
              "    </tr>\n",
              "  </thead>\n",
              "  <tbody>\n",
              "    <tr>\n",
              "      <th>0</th>\n",
              "      <td>0</td>\n",
              "      <td>ELECTRIC_PRESSURE_WASHERS</td>\n",
              "    </tr>\n",
              "    <tr>\n",
              "      <th>1064</th>\n",
              "      <td>0</td>\n",
              "      <td>BODY_SKIN_CARE_PRODUCTS</td>\n",
              "    </tr>\n",
              "    <tr>\n",
              "      <th>1063</th>\n",
              "      <td>0</td>\n",
              "      <td>CAN_OPENERS</td>\n",
              "    </tr>\n",
              "    <tr>\n",
              "      <th>1062</th>\n",
              "      <td>0</td>\n",
              "      <td>ANTIVIRUS_AND_INTERNET_SECURITY</td>\n",
              "    </tr>\n",
              "    <tr>\n",
              "      <th>1061</th>\n",
              "      <td>0</td>\n",
              "      <td>WET_BABY_WIPES</td>\n",
              "    </tr>\n",
              "    <tr>\n",
              "      <th>1060</th>\n",
              "      <td>0</td>\n",
              "      <td>ELECTRIC_GRILLS</td>\n",
              "    </tr>\n",
              "    <tr>\n",
              "      <th>1059</th>\n",
              "      <td>0</td>\n",
              "      <td>MILK_EXTRACTORS</td>\n",
              "    </tr>\n",
              "    <tr>\n",
              "      <th>1058</th>\n",
              "      <td>0</td>\n",
              "      <td>AUTOMOTIVE_SIDE_VIEW_MIRRORS</td>\n",
              "    </tr>\n",
              "    <tr>\n",
              "      <th>1057</th>\n",
              "      <td>0</td>\n",
              "      <td>WARDROBES</td>\n",
              "    </tr>\n",
              "    <tr>\n",
              "      <th>1056</th>\n",
              "      <td>0</td>\n",
              "      <td>AUTOMOTIVE_MANUAL_TRANSMISSION_SHIFT_LEVERS</td>\n",
              "    </tr>\n",
              "    <tr>\n",
              "      <th>1065</th>\n",
              "      <td>0</td>\n",
              "      <td>CAR_TURN_SIGNAL_LIGHTS</td>\n",
              "    </tr>\n",
              "    <tr>\n",
              "      <th>1055</th>\n",
              "      <td>0</td>\n",
              "      <td>CORKSCREWS</td>\n",
              "    </tr>\n",
              "    <tr>\n",
              "      <th>1053</th>\n",
              "      <td>0</td>\n",
              "      <td>CAMERA_MONOPODS</td>\n",
              "    </tr>\n",
              "    <tr>\n",
              "      <th>1052</th>\n",
              "      <td>0</td>\n",
              "      <td>WASTE_BASKETS</td>\n",
              "    </tr>\n",
              "    <tr>\n",
              "      <th>1051</th>\n",
              "      <td>0</td>\n",
              "      <td>AUTOMOTIVE_BUMPER_GRILLES</td>\n",
              "    </tr>\n",
              "    <tr>\n",
              "      <th>1050</th>\n",
              "      <td>0</td>\n",
              "      <td>AUTOMOTIVE_HEADLIGHTS</td>\n",
              "    </tr>\n",
              "    <tr>\n",
              "      <th>1049</th>\n",
              "      <td>0</td>\n",
              "      <td>DENTAL_FLOSSES</td>\n",
              "    </tr>\n",
              "    <tr>\n",
              "      <th>1048</th>\n",
              "      <td>0</td>\n",
              "      <td>COMPRESSION_SLEEVES</td>\n",
              "    </tr>\n",
              "    <tr>\n",
              "      <th>1047</th>\n",
              "      <td>0</td>\n",
              "      <td>AUTOMOTIVE_PAINTS</td>\n",
              "    </tr>\n",
              "    <tr>\n",
              "      <th>1046</th>\n",
              "      <td>0</td>\n",
              "      <td>AUTOMOTIVE_BLOWER_HEATER_MOTORS</td>\n",
              "    </tr>\n",
              "    <tr>\n",
              "      <th>1045</th>\n",
              "      <td>0</td>\n",
              "      <td>ENGINE_COOLING_FAN_CLUTCHES</td>\n",
              "    </tr>\n",
              "    <tr>\n",
              "      <th>1054</th>\n",
              "      <td>0</td>\n",
              "      <td>ACTION_CAMERA_MOUNTS</td>\n",
              "    </tr>\n",
              "    <tr>\n",
              "      <th>1066</th>\n",
              "      <td>0</td>\n",
              "      <td>RANGES</td>\n",
              "    </tr>\n",
              "    <tr>\n",
              "      <th>1067</th>\n",
              "      <td>0</td>\n",
              "      <td>MOTORCYCLE_HEADLIGHTS</td>\n",
              "    </tr>\n",
              "    <tr>\n",
              "      <th>1068</th>\n",
              "      <td>0</td>\n",
              "      <td>PUZZLES</td>\n",
              "    </tr>\n",
              "    <tr>\n",
              "      <th>1089</th>\n",
              "      <td>0</td>\n",
              "      <td>NAIL_FILES</td>\n",
              "    </tr>\n",
              "    <tr>\n",
              "      <th>1088</th>\n",
              "      <td>0</td>\n",
              "      <td>DJ_CASES</td>\n",
              "    </tr>\n",
              "    <tr>\n",
              "      <th>1087</th>\n",
              "      <td>0</td>\n",
              "      <td>CUSHION_COVERS</td>\n",
              "    </tr>\n",
              "    <tr>\n",
              "      <th>1086</th>\n",
              "      <td>0</td>\n",
              "      <td>TOOL_BOXES</td>\n",
              "    </tr>\n",
              "    <tr>\n",
              "      <th>1085</th>\n",
              "      <td>0</td>\n",
              "      <td>PORTABLE_HANGING_SCALES</td>\n",
              "    </tr>\n",
              "    <tr>\n",
              "      <th>...</th>\n",
              "      <td>...</td>\n",
              "      <td>...</td>\n",
              "    </tr>\n",
              "    <tr>\n",
              "      <th>499</th>\n",
              "      <td>0</td>\n",
              "      <td>DECORATIVE_VASES</td>\n",
              "    </tr>\n",
              "    <tr>\n",
              "      <th>498</th>\n",
              "      <td>0</td>\n",
              "      <td>DOOR_AND_WINDOW_LOCKS</td>\n",
              "    </tr>\n",
              "    <tr>\n",
              "      <th>497</th>\n",
              "      <td>0</td>\n",
              "      <td>BACKPACKS</td>\n",
              "    </tr>\n",
              "    <tr>\n",
              "      <th>518</th>\n",
              "      <td>0</td>\n",
              "      <td>REFRIGERANT_GASES</td>\n",
              "    </tr>\n",
              "    <tr>\n",
              "      <th>544</th>\n",
              "      <td>0</td>\n",
              "      <td>PADDLE_TENNIS_RACKETS</td>\n",
              "    </tr>\n",
              "    <tr>\n",
              "      <th>519</th>\n",
              "      <td>0</td>\n",
              "      <td>NIGHTSTANDS</td>\n",
              "    </tr>\n",
              "    <tr>\n",
              "      <th>521</th>\n",
              "      <td>0</td>\n",
              "      <td>GATE_GEAR_RACKS</td>\n",
              "    </tr>\n",
              "    <tr>\n",
              "      <th>542</th>\n",
              "      <td>0</td>\n",
              "      <td>ELECTRIC_GUITARS</td>\n",
              "    </tr>\n",
              "    <tr>\n",
              "      <th>541</th>\n",
              "      <td>0</td>\n",
              "      <td>FISHING_TACKLE_BOXES</td>\n",
              "    </tr>\n",
              "    <tr>\n",
              "      <th>540</th>\n",
              "      <td>0</td>\n",
              "      <td>SERVING_AND_HOME_TRAYS</td>\n",
              "    </tr>\n",
              "    <tr>\n",
              "      <th>539</th>\n",
              "      <td>0</td>\n",
              "      <td>AUTOMOTIVE_CLUTCH_KITS</td>\n",
              "    </tr>\n",
              "    <tr>\n",
              "      <th>538</th>\n",
              "      <td>0</td>\n",
              "      <td>FURNITURE_KNOBS</td>\n",
              "    </tr>\n",
              "    <tr>\n",
              "      <th>537</th>\n",
              "      <td>0</td>\n",
              "      <td>ELECTRIC_FOOD_STEAMERS</td>\n",
              "    </tr>\n",
              "    <tr>\n",
              "      <th>536</th>\n",
              "      <td>0</td>\n",
              "      <td>BOOKCASES</td>\n",
              "    </tr>\n",
              "    <tr>\n",
              "      <th>535</th>\n",
              "      <td>0</td>\n",
              "      <td>AUTOMOTIVE_POWER_WINDOW_REGULATORS</td>\n",
              "    </tr>\n",
              "    <tr>\n",
              "      <th>534</th>\n",
              "      <td>0</td>\n",
              "      <td>LAUNDRY_ROOM_CABINETS</td>\n",
              "    </tr>\n",
              "    <tr>\n",
              "      <th>533</th>\n",
              "      <td>0</td>\n",
              "      <td>AV_RECEIVERS</td>\n",
              "    </tr>\n",
              "    <tr>\n",
              "      <th>532</th>\n",
              "      <td>0</td>\n",
              "      <td>AUTOMOTIVE_CV_JOINT_BOOTS</td>\n",
              "    </tr>\n",
              "    <tr>\n",
              "      <th>531</th>\n",
              "      <td>0</td>\n",
              "      <td>AUTOMOTIVE_DOOR_PANELS</td>\n",
              "    </tr>\n",
              "    <tr>\n",
              "      <th>530</th>\n",
              "      <td>0</td>\n",
              "      <td>TOWEL_HOLDERS</td>\n",
              "    </tr>\n",
              "    <tr>\n",
              "      <th>529</th>\n",
              "      <td>0</td>\n",
              "      <td>MALE_MASTURBATORS</td>\n",
              "    </tr>\n",
              "    <tr>\n",
              "      <th>528</th>\n",
              "      <td>0</td>\n",
              "      <td>CAR_DISTRIBUTOR_CAPS</td>\n",
              "    </tr>\n",
              "    <tr>\n",
              "      <th>527</th>\n",
              "      <td>0</td>\n",
              "      <td>VODKAS</td>\n",
              "    </tr>\n",
              "    <tr>\n",
              "      <th>526</th>\n",
              "      <td>0</td>\n",
              "      <td>WALLPAPERS</td>\n",
              "    </tr>\n",
              "    <tr>\n",
              "      <th>525</th>\n",
              "      <td>0</td>\n",
              "      <td>STYLING_CHAIRS</td>\n",
              "    </tr>\n",
              "    <tr>\n",
              "      <th>524</th>\n",
              "      <td>0</td>\n",
              "      <td>TOILET_SEATS</td>\n",
              "    </tr>\n",
              "    <tr>\n",
              "      <th>523</th>\n",
              "      <td>0</td>\n",
              "      <td>ESPADRILLES</td>\n",
              "    </tr>\n",
              "    <tr>\n",
              "      <th>522</th>\n",
              "      <td>0</td>\n",
              "      <td>AUDIO_AND_VIDEO_CONNECTORS</td>\n",
              "    </tr>\n",
              "    <tr>\n",
              "      <th>520</th>\n",
              "      <td>0</td>\n",
              "      <td>MINI_COMPONENT_SYSTEMS</td>\n",
              "    </tr>\n",
              "    <tr>\n",
              "      <th>1587</th>\n",
              "      <td>0</td>\n",
              "      <td>COMMERCIAL_POPCORN_MACHINES</td>\n",
              "    </tr>\n",
              "  </tbody>\n",
              "</table>\n",
              "<p>1588 rows × 2 columns</p>\n",
              "</div>"
            ],
            "text/plain": [
              "     QTD                                    Categoria\n",
              "0      0                    ELECTRIC_PRESSURE_WASHERS\n",
              "1064   0                      BODY_SKIN_CARE_PRODUCTS\n",
              "1063   0                                  CAN_OPENERS\n",
              "1062   0              ANTIVIRUS_AND_INTERNET_SECURITY\n",
              "1061   0                               WET_BABY_WIPES\n",
              "1060   0                              ELECTRIC_GRILLS\n",
              "1059   0                              MILK_EXTRACTORS\n",
              "1058   0                 AUTOMOTIVE_SIDE_VIEW_MIRRORS\n",
              "1057   0                                    WARDROBES\n",
              "1056   0  AUTOMOTIVE_MANUAL_TRANSMISSION_SHIFT_LEVERS\n",
              "1065   0                       CAR_TURN_SIGNAL_LIGHTS\n",
              "1055   0                                   CORKSCREWS\n",
              "1053   0                              CAMERA_MONOPODS\n",
              "1052   0                                WASTE_BASKETS\n",
              "1051   0                    AUTOMOTIVE_BUMPER_GRILLES\n",
              "1050   0                        AUTOMOTIVE_HEADLIGHTS\n",
              "1049   0                               DENTAL_FLOSSES\n",
              "1048   0                          COMPRESSION_SLEEVES\n",
              "1047   0                            AUTOMOTIVE_PAINTS\n",
              "1046   0              AUTOMOTIVE_BLOWER_HEATER_MOTORS\n",
              "1045   0                  ENGINE_COOLING_FAN_CLUTCHES\n",
              "1054   0                         ACTION_CAMERA_MOUNTS\n",
              "1066   0                                       RANGES\n",
              "1067   0                        MOTORCYCLE_HEADLIGHTS\n",
              "1068   0                                      PUZZLES\n",
              "1089   0                                   NAIL_FILES\n",
              "1088   0                                     DJ_CASES\n",
              "1087   0                               CUSHION_COVERS\n",
              "1086   0                                   TOOL_BOXES\n",
              "1085   0                      PORTABLE_HANGING_SCALES\n",
              "...   ..                                          ...\n",
              "499    0                             DECORATIVE_VASES\n",
              "498    0                        DOOR_AND_WINDOW_LOCKS\n",
              "497    0                                    BACKPACKS\n",
              "518    0                            REFRIGERANT_GASES\n",
              "544    0                        PADDLE_TENNIS_RACKETS\n",
              "519    0                                  NIGHTSTANDS\n",
              "521    0                              GATE_GEAR_RACKS\n",
              "542    0                             ELECTRIC_GUITARS\n",
              "541    0                         FISHING_TACKLE_BOXES\n",
              "540    0                       SERVING_AND_HOME_TRAYS\n",
              "539    0                       AUTOMOTIVE_CLUTCH_KITS\n",
              "538    0                              FURNITURE_KNOBS\n",
              "537    0                       ELECTRIC_FOOD_STEAMERS\n",
              "536    0                                    BOOKCASES\n",
              "535    0           AUTOMOTIVE_POWER_WINDOW_REGULATORS\n",
              "534    0                        LAUNDRY_ROOM_CABINETS\n",
              "533    0                                 AV_RECEIVERS\n",
              "532    0                    AUTOMOTIVE_CV_JOINT_BOOTS\n",
              "531    0                       AUTOMOTIVE_DOOR_PANELS\n",
              "530    0                                TOWEL_HOLDERS\n",
              "529    0                            MALE_MASTURBATORS\n",
              "528    0                         CAR_DISTRIBUTOR_CAPS\n",
              "527    0                                       VODKAS\n",
              "526    0                                   WALLPAPERS\n",
              "525    0                               STYLING_CHAIRS\n",
              "524    0                                 TOILET_SEATS\n",
              "523    0                                  ESPADRILLES\n",
              "522    0                   AUDIO_AND_VIDEO_CONNECTORS\n",
              "520    0                       MINI_COMPONENT_SYSTEMS\n",
              "1587   0                  COMMERCIAL_POPCORN_MACHINES\n",
              "\n",
              "[1588 rows x 2 columns]"
            ]
          },
          "metadata": {
            "tags": []
          },
          "execution_count": 20
        }
      ]
    }
  ]
}